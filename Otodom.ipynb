{
 "cells": [
  {
   "cell_type": "code",
   "execution_count": 138,
   "metadata": {},
   "outputs": [],
   "source": [
    "import numpy as np\n",
    "import pandas as pd\n",
    "import matplotlib.pyplot as plt\n",
    "import seaborn as sns\n",
    "\n",
    "from sklearn.preprocessing import Imputer, MinMaxScaler\n",
    "from sklearn.pipeline import Pipeline\n",
    "from sklearn.model_selection import GridSearchCV, train_test_split\n",
    "from sklearn.linear_model import LinearRegression\n",
    "from sklearn.ensemble import RandomForestRegressor\n",
    "from sklearn.svm import SVR\n",
    "from sklearn.metrics import mean_squared_error, r2_score\n",
    "\n",
    "import xgboost as xgb\n",
    "from xgboost.sklearn import XGBRegressor\n",
    "\n",
    "import pprint\n",
    "%matplotlib inline"
   ]
  },
  {
   "cell_type": "code",
   "execution_count": 139,
   "metadata": {},
   "outputs": [],
   "source": [
    "data = pd.read_csv(\"./otodom/otodom.csv\", sep=\",\")"
   ]
  },
  {
   "cell_type": "code",
   "execution_count": 140,
   "metadata": {},
   "outputs": [
    {
     "data": {
      "text/plain": [
       "(36080, 44)"
      ]
     },
     "execution_count": 140,
     "metadata": {},
     "output_type": "execute_result"
    }
   ],
   "source": [
    "data.shape"
   ]
  },
  {
   "cell_type": "code",
   "execution_count": 141,
   "metadata": {},
   "outputs": [
    {
     "data": {
      "text/plain": [
       "ac                     float64\n",
       "address                 object\n",
       "alarm                  float64\n",
       "antiburglary_blinds    float64\n",
       "antiburglary_doors     float64\n",
       "available_from          object\n",
       "balcony                float64\n",
       "building_material       object\n",
       "building_status         object\n",
       "building_type           object\n",
       "cable_tv               float64\n",
       "cellar                 float64\n",
       "description             object\n",
       "dish_washer            float64\n",
       "duplex                 float64\n",
       "floor                   object\n",
       "fridge                 float64\n",
       "furniture              float64\n",
       "garage                 float64\n",
       "garden                 float64\n",
       "heating                 object\n",
       "intercom               float64\n",
       "internet               float64\n",
       "lift                   float64\n",
       "m2                      object\n",
       "market                  object\n",
       "max_floor               object\n",
       "name                    object\n",
       "oven                   float64\n",
       "possession_type         object\n",
       "price                   object\n",
       "rent                    object\n",
       "restricted_area        float64\n",
       "rooms_n                 object\n",
       "security               float64\n",
       "separate_kitchen       float64\n",
       "stove                  float64\n",
       "telephone              float64\n",
       "terrace                float64\n",
       "tv                     float64\n",
       "usable_room            float64\n",
       "washing_machine        float64\n",
       "windows                 object\n",
       "year                   float64\n",
       "dtype: object"
      ]
     },
     "execution_count": 141,
     "metadata": {},
     "output_type": "execute_result"
    }
   ],
   "source": [
    "data.dtypes"
   ]
  },
  {
   "cell_type": "code",
   "execution_count": 142,
   "metadata": {},
   "outputs": [
    {
     "data": {
      "text/html": [
       "<div>\n",
       "<style>\n",
       "    .dataframe thead tr:only-child th {\n",
       "        text-align: right;\n",
       "    }\n",
       "\n",
       "    .dataframe thead th {\n",
       "        text-align: left;\n",
       "    }\n",
       "\n",
       "    .dataframe tbody tr th {\n",
       "        vertical-align: top;\n",
       "    }\n",
       "</style>\n",
       "<table border=\"1\" class=\"dataframe\">\n",
       "  <thead>\n",
       "    <tr style=\"text-align: right;\">\n",
       "      <th></th>\n",
       "      <th>ac</th>\n",
       "      <th>alarm</th>\n",
       "      <th>antiburglary_blinds</th>\n",
       "      <th>antiburglary_doors</th>\n",
       "      <th>balcony</th>\n",
       "      <th>cable_tv</th>\n",
       "      <th>cellar</th>\n",
       "      <th>dish_washer</th>\n",
       "      <th>duplex</th>\n",
       "      <th>fridge</th>\n",
       "      <th>furniture</th>\n",
       "      <th>garage</th>\n",
       "      <th>garden</th>\n",
       "      <th>intercom</th>\n",
       "      <th>internet</th>\n",
       "      <th>lift</th>\n",
       "      <th>oven</th>\n",
       "      <th>restricted_area</th>\n",
       "      <th>security</th>\n",
       "      <th>separate_kitchen</th>\n",
       "      <th>stove</th>\n",
       "      <th>telephone</th>\n",
       "      <th>terrace</th>\n",
       "      <th>tv</th>\n",
       "      <th>usable_room</th>\n",
       "      <th>washing_machine</th>\n",
       "      <th>year</th>\n",
       "    </tr>\n",
       "  </thead>\n",
       "  <tbody>\n",
       "    <tr>\n",
       "      <th>count</th>\n",
       "      <td>777.0</td>\n",
       "      <td>929.0</td>\n",
       "      <td>985.0</td>\n",
       "      <td>6844.0</td>\n",
       "      <td>22169.0</td>\n",
       "      <td>15000.0</td>\n",
       "      <td>14586.0</td>\n",
       "      <td>2639.0</td>\n",
       "      <td>1193.0</td>\n",
       "      <td>3725.0</td>\n",
       "      <td>6172.0</td>\n",
       "      <td>13751.0</td>\n",
       "      <td>2881.0</td>\n",
       "      <td>13277.0</td>\n",
       "      <td>16865.0</td>\n",
       "      <td>14293.0</td>\n",
       "      <td>4040.0</td>\n",
       "      <td>5907.0</td>\n",
       "      <td>6316.0</td>\n",
       "      <td>7090.0</td>\n",
       "      <td>4533.0</td>\n",
       "      <td>11171.0</td>\n",
       "      <td>3639.0</td>\n",
       "      <td>998.0</td>\n",
       "      <td>4618.0</td>\n",
       "      <td>2607.0</td>\n",
       "      <td>25280.000000</td>\n",
       "    </tr>\n",
       "    <tr>\n",
       "      <th>mean</th>\n",
       "      <td>1.0</td>\n",
       "      <td>1.0</td>\n",
       "      <td>1.0</td>\n",
       "      <td>1.0</td>\n",
       "      <td>1.0</td>\n",
       "      <td>1.0</td>\n",
       "      <td>1.0</td>\n",
       "      <td>1.0</td>\n",
       "      <td>1.0</td>\n",
       "      <td>1.0</td>\n",
       "      <td>1.0</td>\n",
       "      <td>1.0</td>\n",
       "      <td>1.0</td>\n",
       "      <td>1.0</td>\n",
       "      <td>1.0</td>\n",
       "      <td>1.0</td>\n",
       "      <td>1.0</td>\n",
       "      <td>1.0</td>\n",
       "      <td>1.0</td>\n",
       "      <td>1.0</td>\n",
       "      <td>1.0</td>\n",
       "      <td>1.0</td>\n",
       "      <td>1.0</td>\n",
       "      <td>1.0</td>\n",
       "      <td>1.0</td>\n",
       "      <td>1.0</td>\n",
       "      <td>1997.528244</td>\n",
       "    </tr>\n",
       "    <tr>\n",
       "      <th>std</th>\n",
       "      <td>0.0</td>\n",
       "      <td>0.0</td>\n",
       "      <td>0.0</td>\n",
       "      <td>0.0</td>\n",
       "      <td>0.0</td>\n",
       "      <td>0.0</td>\n",
       "      <td>0.0</td>\n",
       "      <td>0.0</td>\n",
       "      <td>0.0</td>\n",
       "      <td>0.0</td>\n",
       "      <td>0.0</td>\n",
       "      <td>0.0</td>\n",
       "      <td>0.0</td>\n",
       "      <td>0.0</td>\n",
       "      <td>0.0</td>\n",
       "      <td>0.0</td>\n",
       "      <td>0.0</td>\n",
       "      <td>0.0</td>\n",
       "      <td>0.0</td>\n",
       "      <td>0.0</td>\n",
       "      <td>0.0</td>\n",
       "      <td>0.0</td>\n",
       "      <td>0.0</td>\n",
       "      <td>0.0</td>\n",
       "      <td>0.0</td>\n",
       "      <td>0.0</td>\n",
       "      <td>207.656360</td>\n",
       "    </tr>\n",
       "    <tr>\n",
       "      <th>min</th>\n",
       "      <td>1.0</td>\n",
       "      <td>1.0</td>\n",
       "      <td>1.0</td>\n",
       "      <td>1.0</td>\n",
       "      <td>1.0</td>\n",
       "      <td>1.0</td>\n",
       "      <td>1.0</td>\n",
       "      <td>1.0</td>\n",
       "      <td>1.0</td>\n",
       "      <td>1.0</td>\n",
       "      <td>1.0</td>\n",
       "      <td>1.0</td>\n",
       "      <td>1.0</td>\n",
       "      <td>1.0</td>\n",
       "      <td>1.0</td>\n",
       "      <td>1.0</td>\n",
       "      <td>1.0</td>\n",
       "      <td>1.0</td>\n",
       "      <td>1.0</td>\n",
       "      <td>1.0</td>\n",
       "      <td>1.0</td>\n",
       "      <td>1.0</td>\n",
       "      <td>1.0</td>\n",
       "      <td>1.0</td>\n",
       "      <td>1.0</td>\n",
       "      <td>1.0</td>\n",
       "      <td>1.000000</td>\n",
       "    </tr>\n",
       "    <tr>\n",
       "      <th>25%</th>\n",
       "      <td>1.0</td>\n",
       "      <td>1.0</td>\n",
       "      <td>1.0</td>\n",
       "      <td>1.0</td>\n",
       "      <td>1.0</td>\n",
       "      <td>1.0</td>\n",
       "      <td>1.0</td>\n",
       "      <td>1.0</td>\n",
       "      <td>1.0</td>\n",
       "      <td>1.0</td>\n",
       "      <td>1.0</td>\n",
       "      <td>1.0</td>\n",
       "      <td>1.0</td>\n",
       "      <td>1.0</td>\n",
       "      <td>1.0</td>\n",
       "      <td>1.0</td>\n",
       "      <td>1.0</td>\n",
       "      <td>1.0</td>\n",
       "      <td>1.0</td>\n",
       "      <td>1.0</td>\n",
       "      <td>1.0</td>\n",
       "      <td>1.0</td>\n",
       "      <td>1.0</td>\n",
       "      <td>1.0</td>\n",
       "      <td>1.0</td>\n",
       "      <td>1.0</td>\n",
       "      <td>1983.000000</td>\n",
       "    </tr>\n",
       "    <tr>\n",
       "      <th>50%</th>\n",
       "      <td>1.0</td>\n",
       "      <td>1.0</td>\n",
       "      <td>1.0</td>\n",
       "      <td>1.0</td>\n",
       "      <td>1.0</td>\n",
       "      <td>1.0</td>\n",
       "      <td>1.0</td>\n",
       "      <td>1.0</td>\n",
       "      <td>1.0</td>\n",
       "      <td>1.0</td>\n",
       "      <td>1.0</td>\n",
       "      <td>1.0</td>\n",
       "      <td>1.0</td>\n",
       "      <td>1.0</td>\n",
       "      <td>1.0</td>\n",
       "      <td>1.0</td>\n",
       "      <td>1.0</td>\n",
       "      <td>1.0</td>\n",
       "      <td>1.0</td>\n",
       "      <td>1.0</td>\n",
       "      <td>1.0</td>\n",
       "      <td>1.0</td>\n",
       "      <td>1.0</td>\n",
       "      <td>1.0</td>\n",
       "      <td>1.0</td>\n",
       "      <td>1.0</td>\n",
       "      <td>2010.000000</td>\n",
       "    </tr>\n",
       "    <tr>\n",
       "      <th>75%</th>\n",
       "      <td>1.0</td>\n",
       "      <td>1.0</td>\n",
       "      <td>1.0</td>\n",
       "      <td>1.0</td>\n",
       "      <td>1.0</td>\n",
       "      <td>1.0</td>\n",
       "      <td>1.0</td>\n",
       "      <td>1.0</td>\n",
       "      <td>1.0</td>\n",
       "      <td>1.0</td>\n",
       "      <td>1.0</td>\n",
       "      <td>1.0</td>\n",
       "      <td>1.0</td>\n",
       "      <td>1.0</td>\n",
       "      <td>1.0</td>\n",
       "      <td>1.0</td>\n",
       "      <td>1.0</td>\n",
       "      <td>1.0</td>\n",
       "      <td>1.0</td>\n",
       "      <td>1.0</td>\n",
       "      <td>1.0</td>\n",
       "      <td>1.0</td>\n",
       "      <td>1.0</td>\n",
       "      <td>1.0</td>\n",
       "      <td>1.0</td>\n",
       "      <td>1.0</td>\n",
       "      <td>2018.000000</td>\n",
       "    </tr>\n",
       "    <tr>\n",
       "      <th>max</th>\n",
       "      <td>1.0</td>\n",
       "      <td>1.0</td>\n",
       "      <td>1.0</td>\n",
       "      <td>1.0</td>\n",
       "      <td>1.0</td>\n",
       "      <td>1.0</td>\n",
       "      <td>1.0</td>\n",
       "      <td>1.0</td>\n",
       "      <td>1.0</td>\n",
       "      <td>1.0</td>\n",
       "      <td>1.0</td>\n",
       "      <td>1.0</td>\n",
       "      <td>1.0</td>\n",
       "      <td>1.0</td>\n",
       "      <td>1.0</td>\n",
       "      <td>1.0</td>\n",
       "      <td>1.0</td>\n",
       "      <td>1.0</td>\n",
       "      <td>1.0</td>\n",
       "      <td>1.0</td>\n",
       "      <td>1.0</td>\n",
       "      <td>1.0</td>\n",
       "      <td>1.0</td>\n",
       "      <td>1.0</td>\n",
       "      <td>1.0</td>\n",
       "      <td>1.0</td>\n",
       "      <td>20133.000000</td>\n",
       "    </tr>\n",
       "  </tbody>\n",
       "</table>\n",
       "</div>"
      ],
      "text/plain": [
       "          ac  alarm  antiburglary_blinds  antiburglary_doors  balcony  \\\n",
       "count  777.0  929.0                985.0              6844.0  22169.0   \n",
       "mean     1.0    1.0                  1.0                 1.0      1.0   \n",
       "std      0.0    0.0                  0.0                 0.0      0.0   \n",
       "min      1.0    1.0                  1.0                 1.0      1.0   \n",
       "25%      1.0    1.0                  1.0                 1.0      1.0   \n",
       "50%      1.0    1.0                  1.0                 1.0      1.0   \n",
       "75%      1.0    1.0                  1.0                 1.0      1.0   \n",
       "max      1.0    1.0                  1.0                 1.0      1.0   \n",
       "\n",
       "       cable_tv   cellar  dish_washer  duplex  fridge  furniture   garage  \\\n",
       "count   15000.0  14586.0       2639.0  1193.0  3725.0     6172.0  13751.0   \n",
       "mean        1.0      1.0          1.0     1.0     1.0        1.0      1.0   \n",
       "std         0.0      0.0          0.0     0.0     0.0        0.0      0.0   \n",
       "min         1.0      1.0          1.0     1.0     1.0        1.0      1.0   \n",
       "25%         1.0      1.0          1.0     1.0     1.0        1.0      1.0   \n",
       "50%         1.0      1.0          1.0     1.0     1.0        1.0      1.0   \n",
       "75%         1.0      1.0          1.0     1.0     1.0        1.0      1.0   \n",
       "max         1.0      1.0          1.0     1.0     1.0        1.0      1.0   \n",
       "\n",
       "       garden  intercom  internet     lift    oven  restricted_area  security  \\\n",
       "count  2881.0   13277.0   16865.0  14293.0  4040.0           5907.0    6316.0   \n",
       "mean      1.0       1.0       1.0      1.0     1.0              1.0       1.0   \n",
       "std       0.0       0.0       0.0      0.0     0.0              0.0       0.0   \n",
       "min       1.0       1.0       1.0      1.0     1.0              1.0       1.0   \n",
       "25%       1.0       1.0       1.0      1.0     1.0              1.0       1.0   \n",
       "50%       1.0       1.0       1.0      1.0     1.0              1.0       1.0   \n",
       "75%       1.0       1.0       1.0      1.0     1.0              1.0       1.0   \n",
       "max       1.0       1.0       1.0      1.0     1.0              1.0       1.0   \n",
       "\n",
       "       separate_kitchen   stove  telephone  terrace     tv  usable_room  \\\n",
       "count            7090.0  4533.0    11171.0   3639.0  998.0       4618.0   \n",
       "mean                1.0     1.0        1.0      1.0    1.0          1.0   \n",
       "std                 0.0     0.0        0.0      0.0    0.0          0.0   \n",
       "min                 1.0     1.0        1.0      1.0    1.0          1.0   \n",
       "25%                 1.0     1.0        1.0      1.0    1.0          1.0   \n",
       "50%                 1.0     1.0        1.0      1.0    1.0          1.0   \n",
       "75%                 1.0     1.0        1.0      1.0    1.0          1.0   \n",
       "max                 1.0     1.0        1.0      1.0    1.0          1.0   \n",
       "\n",
       "       washing_machine          year  \n",
       "count           2607.0  25280.000000  \n",
       "mean               1.0   1997.528244  \n",
       "std                0.0    207.656360  \n",
       "min                1.0      1.000000  \n",
       "25%                1.0   1983.000000  \n",
       "50%                1.0   2010.000000  \n",
       "75%                1.0   2018.000000  \n",
       "max                1.0  20133.000000  "
      ]
     },
     "execution_count": 142,
     "metadata": {},
     "output_type": "execute_result"
    }
   ],
   "source": [
    "pd.set_option(\"display.max_columns\",50)\n",
    "data.describe()"
   ]
  },
  {
   "cell_type": "markdown",
   "metadata": {},
   "source": [
    "# Data preprocessing"
   ]
  },
  {
   "cell_type": "markdown",
   "metadata": {},
   "source": [
    "Changing variable year (year in which apartment was build) to be relative to current year"
   ]
  },
  {
   "cell_type": "code",
   "execution_count": 143,
   "metadata": {},
   "outputs": [],
   "source": [
    "from datetime import datetime\n",
    "\n",
    "now = datetime.now()\n",
    "data[\"year\"] = now.year - data[\"year\"]"
   ]
  },
  {
   "cell_type": "code",
   "execution_count": 144,
   "metadata": {},
   "outputs": [],
   "source": [
    "months = {\" Stycznia \":\".01.\",\n",
    "          \" Lutego \":\".02.\",\n",
    "          \" Marca \":\".03.\",\n",
    "          \" Kwietnia \":\".04.\",\n",
    "          \" Maja \":\".05.\",\n",
    "          \" Czerwca \":\".06.\",\n",
    "          \" Lipca \":\".07.\",\n",
    "          \" Sierpnia \":\".08.\",\n",
    "          \" Września \":\".09.\",\n",
    "          \" Października \":\".10.\",\n",
    "          \" Listopada \":\".11.\",\n",
    "          \" Grudnia \":\".12.\"\n",
    "         }\n",
    "\n",
    "for name, value in months.items():\n",
    "     data[\"available_from\"] = data[\"available_from\"].str.replace(name, value)\n",
    "\n",
    "data[\"available_from\"] = data[\"available_from\"].str.replace(\" \",\"\")        \n",
    "data[\"available_from\"] = data[\"available_from\"].fillna(\"\") #to replace empty floats with strings"
   ]
  },
  {
   "cell_type": "code",
   "execution_count": 145,
   "metadata": {},
   "outputs": [],
   "source": [
    "def format_to_date(i, date_format):\n",
    "    if i is not None and i != \"\":\n",
    "        delta = datetime.strptime(str(i), date_format) - datetime.today()\n",
    "        return (delta).days\n",
    "    else:\n",
    "        return None"
   ]
  },
  {
   "cell_type": "code",
   "execution_count": 146,
   "metadata": {},
   "outputs": [],
   "source": [
    "date_format = \"%d.%m.%Y\"\n",
    "\n",
    "data[\"available_from\"] = [ format_to_date(i, date_format) for i in data[\"available_from\"]]"
   ]
  },
  {
   "cell_type": "markdown",
   "metadata": {},
   "source": [
    "Converting price variable from str to float.  \n",
    "Removing empty values and rows with price is in foreign currencty to avoid currency exchange (there are only few of them so they are not so valuable)"
   ]
  },
  {
   "cell_type": "code",
   "execution_count": 147,
   "metadata": {},
   "outputs": [],
   "source": [
    "data = data[~data[\"price\"].str.contains(\"GBP|USD|EUR\", na=False, regex=True)]\n",
    "data[\"price\"] = data[\"price\"].str.replace(\",\", \".\").str.replace(\" \", \"\").str.replace(\"zł\", \"\").astype(float)\n",
    "data = data[pd.notnull(data[\"price\"])]"
   ]
  },
  {
   "cell_type": "markdown",
   "metadata": {},
   "source": [
    "Address variable - spliting into 3 parts (city, district and street)"
   ]
  },
  {
   "cell_type": "code",
   "execution_count": 148,
   "metadata": {},
   "outputs": [],
   "source": [
    "data[\"address\"] = data[\"address\"].str.replace(\"Mieszkanie na sprzedaż,\",\"\")\n",
    "address_df = data[\"address\"].str.split(\",\", expand=True)\n",
    "address_df.columns = [\"city\", \"district\", \"street\"]\n",
    "data = data.drop([\"address\"], axis=1)\n",
    "data = pd.concat([data, address_df], axis=1)"
   ]
  },
  {
   "cell_type": "markdown",
   "metadata": {},
   "source": [
    "Converting m2 variable (area of apartment) from str to float."
   ]
  },
  {
   "cell_type": "code",
   "execution_count": 149,
   "metadata": {},
   "outputs": [],
   "source": [
    "data[\"m2\"] = data[\"m2\"].str.replace(\" m²\",\"\").str.replace(\",\", \".\").str.replace(\" \", \"\").astype(float)"
   ]
  },
  {
   "cell_type": "code",
   "execution_count": 150,
   "metadata": {},
   "outputs": [],
   "source": [
    "#plt.xlim(0,1000)\n",
    "#data[\"m2\"].plot.density()"
   ]
  },
  {
   "cell_type": "markdown",
   "metadata": {},
   "source": [
    "Converting rent variabe (rent paid monthly for apartment) from str to float."
   ]
  },
  {
   "cell_type": "code",
   "execution_count": 151,
   "metadata": {},
   "outputs": [],
   "source": [
    "data[\"rent\"] = data[\"rent\"].str.replace(\" zł\",\"\").str.replace(\",\", \".\").str.replace(\" \", \"\").astype(float)"
   ]
  },
  {
   "cell_type": "markdown",
   "metadata": {},
   "source": [
    "Converting max_floor variable (number of floors in the buidling) from str to int."
   ]
  },
  {
   "cell_type": "code",
   "execution_count": 152,
   "metadata": {},
   "outputs": [],
   "source": [
    "data[\"max_floor\"] = data[\"max_floor\"].str.replace(\"\\(z \",\"\").str.replace(\"\\)\", \"\").astype(float)"
   ]
  },
  {
   "cell_type": "markdown",
   "metadata": {},
   "source": [
    "Converting max_floor variable (number of floors in the buidling) from str to int."
   ]
  },
  {
   "cell_type": "code",
   "execution_count": 153,
   "metadata": {},
   "outputs": [],
   "source": [
    "data.loc[data[\"floor\"]==\"parter\", \"floor\"] = 0\n",
    "data.loc[data[\"floor\"]==\"> 10\", \"floor\"] = 11\n",
    "data.loc[data[\"floor\"]==\"suterena\", \"floor\"] = -1\n",
    "data.loc[data[\"floor\"]==\"poddasze\", \"floor\"] = data[\"max_floor\"] #assuming that value provided in max_floor variable is real\n",
    "data[\"floor\"] = data[\"floor\"].astype(float)"
   ]
  },
  {
   "cell_type": "markdown",
   "metadata": {},
   "source": [
    "Converting rooms_n variable (number of rooms in apartment) from str to int."
   ]
  },
  {
   "cell_type": "code",
   "execution_count": 154,
   "metadata": {},
   "outputs": [],
   "source": [
    "data.loc[data[\"rooms_n\"]==\"więcej niż 10\", \"rooms_n\"] = 11\n",
    "data[\"rooms_n\"] = data[\"rooms_n\"].astype(float)"
   ]
  },
  {
   "cell_type": "markdown",
   "metadata": {},
   "source": [
    "Dropping varaiables which are insignificant for our model"
   ]
  },
  {
   "cell_type": "code",
   "execution_count": 155,
   "metadata": {},
   "outputs": [],
   "source": [
    "data = data.drop([\"description\",\"name\"], axis=1)"
   ]
  },
  {
   "cell_type": "markdown",
   "metadata": {},
   "source": [
    "### Checking number of degrees in categorical variables and transforming values into separate columns\n",
    "Variables building_material and building_type have values with insignificiant "
   ]
  },
  {
   "cell_type": "code",
   "execution_count": 156,
   "metadata": {},
   "outputs": [
    {
     "data": {
      "text/plain": [
       "<matplotlib.axes._subplots.AxesSubplot at 0x16ccf601940>"
      ]
     },
     "execution_count": 156,
     "metadata": {},
     "output_type": "execute_result"
    },
    {
     "data": {
      "image/png": "[encoded data removed]",
      "text/plain": [
       "<matplotlib.figure.Figure at 0x16cd32fa0f0>"
      ]
     },
     "metadata": {},
     "output_type": "display_data"
    }
   ],
   "source": [
    "plt.rcParams[\"figure.figsize\"] = [16.0, 4.0]\n",
    "data[\"building_material\"].hist()"
   ]
  },
  {
   "cell_type": "code",
   "execution_count": 157,
   "metadata": {},
   "outputs": [],
   "source": [
    "data.loc[~data[\"building_material\"].str.contains(\"cegła|wielka płyta|pustak\", na=False, regex=True), 'building_material'] = 'inne'"
   ]
  },
  {
   "cell_type": "code",
   "execution_count": 158,
   "metadata": {},
   "outputs": [
    {
     "data": {
      "text/plain": [
       "<matplotlib.axes._subplots.AxesSubplot at 0x16ccf782a20>"
      ]
     },
     "execution_count": 158,
     "metadata": {},
     "output_type": "execute_result"
    },
    {
     "data": {
      "image/png": "[encoded data removed]",
      "text/plain": [
       "<matplotlib.figure.Figure at 0x16ccf7835f8>"
      ]
     },
     "metadata": {},
     "output_type": "display_data"
    }
   ],
   "source": [
    "data[\"building_material\"].hist()"
   ]
  },
  {
   "cell_type": "code",
   "execution_count": 159,
   "metadata": {},
   "outputs": [
    {
     "data": {
      "text/plain": [
       "<matplotlib.axes._subplots.AxesSubplot at 0x16cd334e2e8>"
      ]
     },
     "execution_count": 159,
     "metadata": {},
     "output_type": "execute_result"
    },
    {
     "data": {
      "image/png": "[encoded data removed]",
      "text/plain": [
       "<matplotlib.figure.Figure at 0x16cdbccadd8>"
      ]
     },
     "metadata": {},
     "output_type": "display_data"
    }
   ],
   "source": [
    "data[\"building_status\"].hist()"
   ]
  },
  {
   "cell_type": "code",
   "execution_count": 160,
   "metadata": {},
   "outputs": [
    {
     "data": {
      "text/plain": [
       "<matplotlib.axes._subplots.AxesSubplot at 0x16cd2db6748>"
      ]
     },
     "execution_count": 160,
     "metadata": {},
     "output_type": "execute_result"
    },
    {
     "data": {
      "image/png": "[encoded data removed]",
      "text/plain": [
       "<matplotlib.figure.Figure at 0x16cd1e1b4e0>"
      ]
     },
     "metadata": {},
     "output_type": "display_data"
    }
   ],
   "source": [
    "data[\"building_type\"].hist()"
   ]
  },
  {
   "cell_type": "code",
   "execution_count": 161,
   "metadata": {},
   "outputs": [],
   "source": [
    "data.loc[~data[\"building_type\"].str.contains(\"blok|apartamentowiec|kamienica\", na=False, regex=True), 'building_type'] = 'inne'"
   ]
  },
  {
   "cell_type": "code",
   "execution_count": 162,
   "metadata": {},
   "outputs": [
    {
     "data": {
      "text/plain": [
       "<matplotlib.axes._subplots.AxesSubplot at 0x16cd2db6208>"
      ]
     },
     "execution_count": 162,
     "metadata": {},
     "output_type": "execute_result"
    },
    {
     "data": {
      "image/png": "[encoded data removed]",
      "text/plain": [
       "<matplotlib.figure.Figure at 0x16cd170d630>"
      ]
     },
     "metadata": {},
     "output_type": "display_data"
    }
   ],
   "source": [
    "data[\"building_type\"].hist()"
   ]
  },
  {
   "cell_type": "code",
   "execution_count": 163,
   "metadata": {},
   "outputs": [
    {
     "data": {
      "text/plain": [
       "<matplotlib.axes._subplots.AxesSubplot at 0x16cd17d50f0>"
      ]
     },
     "execution_count": 163,
     "metadata": {},
     "output_type": "execute_result"
    },
    {
     "data": {
      "image/png": "[encoded data removed]",
      "text/plain": [
       "<matplotlib.figure.Figure at 0x16ccfa17c18>"
      ]
     },
     "metadata": {},
     "output_type": "display_data"
    }
   ],
   "source": [
    "data[\"possession_type\"].hist()"
   ]
  },
  {
   "cell_type": "code",
   "execution_count": 164,
   "metadata": {},
   "outputs": [
    {
     "data": {
      "text/plain": [
       "<matplotlib.axes._subplots.AxesSubplot at 0x16ccfaafbe0>"
      ]
     },
     "execution_count": 164,
     "metadata": {},
     "output_type": "execute_result"
    },
    {
     "data": {
      "image/png": "[encoded data removed]",
      "text/plain": [
       "<matplotlib.figure.Figure at 0x16ccf6ca400>"
      ]
     },
     "metadata": {},
     "output_type": "display_data"
    }
   ],
   "source": [
    "data[\"heating\"].hist()"
   ]
  },
  {
   "cell_type": "markdown",
   "metadata": {},
   "source": [
    "Removing spaces from values to avoid column names with spaces after applying get_dummies function."
   ]
  },
  {
   "cell_type": "code",
   "execution_count": 165,
   "metadata": {},
   "outputs": [],
   "source": [
    "data[\"building_material\"] = data[\"building_material\"].str.replace(\" \",\"\")\n",
    "data[\"building_status\"] = data[\"building_status\"].str.replace(\" \",\"\")\n",
    "data[\"building_type\"] = data[\"building_type\"].str.replace(\" \",\"\")\n",
    "data[\"possession_type\"] = data[\"possession_type\"].str.replace(\" \",\"\")\n",
    "data[\"heating\"] = data[\"heating\"].str.replace(\" \",\"\")"
   ]
  },
  {
   "cell_type": "markdown",
   "metadata": {},
   "source": [
    "Imputing 0 in every bit column. Otodom website doesn't show 0 values for those columns (it's either 1 or NULL), so right now we are assuming that users provided true data :)"
   ]
  },
  {
   "cell_type": "code",
   "execution_count": 166,
   "metadata": {},
   "outputs": [],
   "source": [
    "bit_columns = list(data.max().loc[data.max()==1].index)\n",
    "data[bit_columns] = data[bit_columns].fillna(0).astype(int)"
   ]
  },
  {
   "cell_type": "code",
   "execution_count": 167,
   "metadata": {},
   "outputs": [],
   "source": [
    "data = data.drop([\"city\",\"district\",\"street\"], axis=1)"
   ]
  },
  {
   "cell_type": "markdown",
   "metadata": {},
   "source": [
    "Converting categorical variables into n"
   ]
  },
  {
   "cell_type": "code",
   "execution_count": 168,
   "metadata": {},
   "outputs": [],
   "source": [
    "data = pd.get_dummies(data)"
   ]
  },
  {
   "cell_type": "code",
   "execution_count": 169,
   "metadata": {},
   "outputs": [],
   "source": [
    "X = data.drop([\"price\"], axis=1)\n",
    "y = data[\"price\"]"
   ]
  },
  {
   "cell_type": "code",
   "execution_count": 170,
   "metadata": {},
   "outputs": [],
   "source": [
    "X_train, X_test, y_train, y_test = train_test_split(X,y,test_size=0.33)"
   ]
  },
  {
   "cell_type": "code",
   "execution_count": 173,
   "metadata": {},
   "outputs": [],
   "source": [
    "base = [\n",
    "    (\"imput\", Imputer(strategy=\"mean\", axis=0))#,\n",
    "    #(\"scale\", MinMaxScaler())  \n",
    "]\n",
    "\n",
    "models = [\n",
    "    (\"model\",LinearRegression()),\n",
    "    (\"model\",RandomForestRegressor())\n",
    "    #[(\"model\",XGBRegressor())]\n",
    "]\n",
    "\n",
    "param_grids = [{\"model__normalize\":[True,False]},\n",
    "               {\"model__n_estimators\":[10,100,1000]}#{\"model__n_estimators\":[10,100,1000],\"model__min_samples_leaf\":[5,25,50,100],\"model__max_depth\":[5,10,15,25]}\n",
    "]"
   ]
  },
  {
   "cell_type": "code",
   "execution_count": 174,
   "metadata": {},
   "outputs": [
    {
     "data": {
      "text/plain": [
       "False"
      ]
     },
     "execution_count": 174,
     "metadata": {},
     "output_type": "execute_result"
    }
   ],
   "source": []
  },
  {
   "cell_type": "code",
   "execution_count": 175,
   "metadata": {},
   "outputs": [
    {
     "name": "stdout",
     "output_type": "stream",
     "text": [
      "{'mean_fit_time': array([ 0.05720798,  0.0527029 ]),\n",
      " 'mean_score_time': array([ 0.0095067 ,  0.00850638]),\n",
      " 'mean_test_score': array([-0.4613777 , -0.46127988]),\n",
      " 'mean_train_score': array([ 0.41520681,  0.41520784]),\n",
      " 'param_model__normalize': masked_array(data = [True False],\n",
      "             mask = [False False],\n",
      "       fill_value = ?)\n",
      ",\n",
      " 'params': [{'model__normalize': True}, {'model__normalize': False}],\n",
      " 'rank_test_score': array([2, 1]),\n",
      " 'split0_test_score': array([ 0.38958476,  0.38959746]),\n",
      " 'split0_train_score': array([ 0.36980407,  0.36980428]),\n",
      " 'split1_test_score': array([-1.92039147, -1.92023913]),\n",
      " 'split1_train_score': array([ 0.46030111,  0.46030405]),\n",
      " 'split2_test_score': array([ 0.14667362,  0.14680205]),\n",
      " 'split2_train_score': array([ 0.41551524,  0.4155152 ]),\n",
      " 'std_fit_time': array([ 0.00317225,  0.00429083]),\n",
      " 'std_score_time': array([ 0.00070689,  0.00070734]),\n",
      " 'std_test_score': array([ 1.03643374,  1.03639085]),\n",
      " 'std_train_score': array([ 0.03694591,  0.03694702])}\n",
      "{'mean_fit_time': array([   1.37670962,   13.27490664,  130.06864802]),\n",
      " 'mean_score_time': array([ 0.03151679,  0.24434606,  2.26948245]),\n",
      " 'mean_test_score': array([ 0.57628392,  0.61877267,  0.6293558 ]),\n",
      " 'mean_train_score': array([ 0.93529835,  0.94610351,  0.94948461]),\n",
      " 'param_model__n_estimators': masked_array(data = [10 100 1000],\n",
      "             mask = [False False False],\n",
      "       fill_value = ?)\n",
      ",\n",
      " 'params': [{'model__n_estimators': 10},\n",
      "            {'model__n_estimators': 100},\n",
      "            {'model__n_estimators': 1000}],\n",
      " 'rank_test_score': array([3, 2, 1]),\n",
      " 'split0_test_score': array([ 0.53174874,  0.52886688,  0.55052021]),\n",
      " 'split0_train_score': array([ 0.95362799,  0.95801789,  0.95858083]),\n",
      " 'split1_test_score': array([ 0.54784947,  0.66095112,  0.67295388]),\n",
      " 'split1_train_score': array([ 0.93119358,  0.93098455,  0.93950395]),\n",
      " 'split2_test_score': array([ 0.64925356,  0.6665    ,  0.66459331]),\n",
      " 'split2_train_score': array([ 0.92107349,  0.9493081 ,  0.95036905]),\n",
      " 'std_fit_time': array([ 0.04976805,  0.07126767,  0.61581746]),\n",
      " 'std_score_time': array([ 0.00040327,  0.00434072,  0.08997311]),\n",
      " 'std_test_score': array([ 0.05201432,  0.06361334,  0.05584958]),\n",
      " 'std_train_score': array([ 0.01360357,  0.01126654,  0.00781317])}\n"
     ]
    }
   ],
   "source": [
    "best_models = []\n",
    "#GridSearchCV doesn't allow NaNs so we have to imput missing data before grid search\n",
    "imputer = Imputer(strategy=\"mean\", axis=0)\n",
    "X_train = pd.DataFrame(imputer.fit_transform(X_train))\n",
    "\n",
    "for i, model in enumerate(models):\n",
    "    \n",
    "    steps = base.copy()\n",
    "    steps.append(model)\n",
    "    pipe = Pipeline(steps)\n",
    "\n",
    "    gs = GridSearchCV(estimator=pipe, param_grid=param_grids[i])\n",
    "    gs.fit(X_train,y_train)\n",
    "    pprint.pprint(gs.cv_results_ )\n",
    "    best_models.append((gs.best_params_,gs.best_estimator_))"
   ]
  },
  {
   "cell_type": "code",
   "execution_count": 65,
   "metadata": {},
   "outputs": [
    {
     "ename": "IndexError",
     "evalue": "only integers, slices (`:`), ellipsis (`...`), numpy.newaxis (`None`) and integer or boolean arrays are valid indices",
     "output_type": "error",
     "traceback": [
      "\u001b[1;31m---------------------------------------------------------------------------\u001b[0m",
      "\u001b[1;31mIndexError\u001b[0m                                Traceback (most recent call last)",
      "\u001b[1;32m<ipython-input-65-1e161383c2ea>\u001b[0m in \u001b[0;36m<module>\u001b[1;34m()\u001b[0m\n\u001b[1;32m----> 1\u001b[1;33m \u001b[0mX_train\u001b[0m\u001b[1;33m[\u001b[0m\u001b[1;34m\"available_from\"\u001b[0m\u001b[1;33m]\u001b[0m\u001b[1;31m#.astype(int)\u001b[0m\u001b[1;33m\u001b[0m\u001b[0m\n\u001b[0m",
      "\u001b[1;31mIndexError\u001b[0m: only integers, slices (`:`), ellipsis (`...`), numpy.newaxis (`None`) and integer or boolean arrays are valid indices"
     ]
    }
   ],
   "source": []
  },
  {
   "cell_type": "code",
   "execution_count": 35,
   "metadata": {},
   "outputs": [
    {
     "data": {
      "text/plain": [
       "LinearRegression(copy_X=True, fit_intercept=True, n_jobs=1, normalize=False)"
      ]
     },
     "execution_count": 35,
     "metadata": {},
     "output_type": "execute_result"
    }
   ],
   "source": [
    "model = LinearRegression()                  \n",
    "model.fit(X_train,y_train)"
   ]
  },
  {
   "cell_type": "code",
   "execution_count": 36,
   "metadata": {},
   "outputs": [
    {
     "name": "stdout",
     "output_type": "stream",
     "text": [
      "R2: 0.3270432209875489\n",
      " mse: 129708638856.80284\n"
     ]
    }
   ],
   "source": [
    "print(\"R2: {}\\n mse: {}\".format(r2_score(y_test, model.predict(X_test))\n",
    "                                ,mean_squared_error(y_test, model.predict(X_test)))\n",
    "     )"
   ]
  },
  {
   "cell_type": "code",
   "execution_count": 37,
   "metadata": {},
   "outputs": [
    {
     "data": {
      "text/plain": [
       "RandomForestRegressor(bootstrap=True, criterion='mse', max_depth=None,\n",
       "           max_features='auto', max_leaf_nodes=None,\n",
       "           min_impurity_decrease=0.0, min_impurity_split=None,\n",
       "           min_samples_leaf=1, min_samples_split=2,\n",
       "           min_weight_fraction_leaf=0.0, n_estimators=10, n_jobs=1,\n",
       "           oob_score=False, random_state=None, verbose=0, warm_start=False)"
      ]
     },
     "execution_count": 37,
     "metadata": {},
     "output_type": "execute_result"
    }
   ],
   "source": [
    "model = RandomForestRegressor()                \n",
    "model.fit(X_train,y_train)"
   ]
  },
  {
   "cell_type": "code",
   "execution_count": 38,
   "metadata": {},
   "outputs": [
    {
     "name": "stdout",
     "output_type": "stream",
     "text": [
      "R2: 0.6302399896284242\n",
      " mse: 71269164892.51537\n"
     ]
    }
   ],
   "source": [
    "print(\"R2: {}\\n mse: {}\".format(r2_score(y_test, model.predict(X_test))\n",
    "                                ,mean_squared_error(y_test, model.predict(X_test)))\n",
    "     )"
   ]
  },
  {
   "cell_type": "code",
   "execution_count": 44,
   "metadata": {},
   "outputs": [
    {
     "data": {
      "text/plain": [
       "XGBRegressor(base_score=0.5, colsample_bylevel=1, colsample_bytree=1, gamma=0,\n",
       "       learning_rate=0.1, max_delta_step=0, max_depth=3,\n",
       "       min_child_weight=1, missing=None, n_estimators=100, nthread=-1,\n",
       "       objective='reg:linear', reg_alpha=0, reg_lambda=1,\n",
       "       scale_pos_weight=1, seed=0, silent=True, subsample=1)"
      ]
     },
     "execution_count": 44,
     "metadata": {},
     "output_type": "execute_result"
    }
   ],
   "source": [
    "model = XGBRegressor()                \n",
    "model.fit(X_train,y_train)"
   ]
  },
  {
   "cell_type": "code",
   "execution_count": 45,
   "metadata": {},
   "outputs": [
    {
     "name": "stdout",
     "output_type": "stream",
     "text": [
      "R2: 0.642072059425591\n",
      " mse: 68988599905.1155\n"
     ]
    }
   ],
   "source": [
    "print(\"R2: {}\\n mse: {}\".format(r2_score(y_test, model.predict(X_test))\n",
    "                                ,mean_squared_error(y_test, model.predict(X_test)))\n",
    "     )"
   ]
  },
  {
   "cell_type": "code",
   "execution_count": null,
   "metadata": {},
   "outputs": [],
   "source": []
  },
  {
   "cell_type": "code",
   "execution_count": 41,
   "metadata": {},
   "outputs": [
    {
     "data": {
      "text/plain": [
       "ac                                              int32\n",
       "alarm                                           int32\n",
       "antiburglary_blinds                             int32\n",
       "antiburglary_doors                              int32\n",
       "available_from                                float64\n",
       "balcony                                         int32\n",
       "cable_tv                                        int32\n",
       "cellar                                          int32\n",
       "dish_washer                                     int32\n",
       "duplex                                          int32\n",
       "floor                                         float64\n",
       "fridge                                          int32\n",
       "furniture                                       int32\n",
       "garage                                          int32\n",
       "garden                                          int32\n",
       "intercom                                        int32\n",
       "internet                                        int32\n",
       "lift                                            int32\n",
       "m2                                            float64\n",
       "max_floor                                     float64\n",
       "oven                                            int32\n",
       "price                                         float64\n",
       "rent                                          float64\n",
       "restricted_area                                 int32\n",
       "rooms_n                                       float64\n",
       "security                                        int32\n",
       "separate_kitchen                                int32\n",
       "stove                                           int32\n",
       "telephone                                       int32\n",
       "terrace                                         int32\n",
       "tv                                              int32\n",
       "usable_room                                     int32\n",
       "washing_machine                                 int32\n",
       "year                                          float64\n",
       "building_material_ cegła                        uint8\n",
       "building_material_ pustak                       uint8\n",
       "building_material_ wielka płyta                 uint8\n",
       "building_material_inne                          uint8\n",
       "building_status_ do remontu                     uint8\n",
       "building_status_ do wykończenia                 uint8\n",
       "building_status_ do zamieszkania                uint8\n",
       "building_type_ apartamentowiec                  uint8\n",
       "building_type_ blok                             uint8\n",
       "building_type_ kamienica                        uint8\n",
       "building_type_inne                              uint8\n",
       "heating_ elektryczne                            uint8\n",
       "heating_ gazowe                                 uint8\n",
       "heating_ inne                                   uint8\n",
       "heating_ kotłownia                              uint8\n",
       "heating_ miejskie                               uint8\n",
       "heating_ piece kaflowe                          uint8\n",
       "market_ pierwotny                               uint8\n",
       "market_ wtórny                                  uint8\n",
       "possession_type_ pełna własność                 uint8\n",
       "possession_type_ spółdzielcze wł. z KW          uint8\n",
       "possession_type_ spółdzielcze własnościowe      uint8\n",
       "possession_type_ udział                         uint8\n",
       "windows_ aluminiowe                             uint8\n",
       "windows_ drewniane                              uint8\n",
       "windows_ plastikowe                             uint8\n",
       "dtype: object"
      ]
     },
     "execution_count": 41,
     "metadata": {},
     "output_type": "execute_result"
    }
   ],
   "source": [
    "data.dtypes"
   ]
  }
 ],
 "metadata": {
  "kernelspec": {
   "display_name": "Python 3",
   "language": "python",
   "name": "python3"
  },
  "language_info": {
   "codemirror_mode": {
    "name": "ipython",
    "version": 3
   },
   "file_extension": ".py",
   "mimetype": "text/x-python",
   "name": "python",
   "nbconvert_exporter": "python",
   "pygments_lexer": "ipython3",
   "version": "3.6.3"
  }
 },
 "nbformat": 4,
 "nbformat_minor": 2
}
