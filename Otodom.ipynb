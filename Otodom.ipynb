{
 "cells": [
  {
   "cell_type": "code",
   "execution_count": 79,
   "metadata": {},
   "outputs": [],
   "source": [
    "import numpy as np\n",
    "import pandas as pd\n",
    "import matplotlib.pyplot as plt\n",
    "import seaborn as sns\n",
    "\n",
    "from sklearn.preprocessing import Imputer, MinMaxScaler\n",
    "from sklearn.pipeline import Pipeline\n",
    "from sklearn.model_selection import GridSearchCV, train_test_split\n",
    "from sklearn.linear_model import LinearRegression\n",
    "from sklearn.ensemble import RandomForestRegressor\n",
    "from sklearn.svm import SVR\n",
    "from sklearn.metrics import mean_squared_error, r2_score\n",
    "from sklearn.decomposition import PCA\n",
    "\n",
    "import xgboost as xgb\n",
    "from xgboost.sklearn import XGBRegressor\n",
    "\n",
    "import pprint\n",
    "%matplotlib inline"
   ]
  },
  {
   "cell_type": "code",
   "execution_count": 80,
   "metadata": {},
   "outputs": [],
   "source": [
    "data = pd.read_csv(\"./otodom/otodom.csv\", sep=\",\")"
   ]
  },
  {
   "cell_type": "code",
   "execution_count": 81,
   "metadata": {},
   "outputs": [
    {
     "data": {
      "text/plain": [
       "(36080, 44)"
      ]
     },
     "execution_count": 81,
     "metadata": {},
     "output_type": "execute_result"
    }
   ],
   "source": [
    "data.shape"
   ]
  },
  {
   "cell_type": "code",
   "execution_count": 82,
   "metadata": {},
   "outputs": [
    {
     "data": {
      "text/plain": [
       "ac                     float64\n",
       "address                 object\n",
       "alarm                  float64\n",
       "antiburglary_blinds    float64\n",
       "antiburglary_doors     float64\n",
       "available_from          object\n",
       "balcony                float64\n",
       "building_material       object\n",
       "building_status         object\n",
       "building_type           object\n",
       "cable_tv               float64\n",
       "cellar                 float64\n",
       "description             object\n",
       "dish_washer            float64\n",
       "duplex                 float64\n",
       "floor                   object\n",
       "fridge                 float64\n",
       "furniture              float64\n",
       "garage                 float64\n",
       "garden                 float64\n",
       "heating                 object\n",
       "intercom               float64\n",
       "internet               float64\n",
       "lift                   float64\n",
       "m2                      object\n",
       "market                  object\n",
       "max_floor               object\n",
       "name                    object\n",
       "oven                   float64\n",
       "possession_type         object\n",
       "price                   object\n",
       "rent                    object\n",
       "restricted_area        float64\n",
       "rooms_n                 object\n",
       "security               float64\n",
       "separate_kitchen       float64\n",
       "stove                  float64\n",
       "telephone              float64\n",
       "terrace                float64\n",
       "tv                     float64\n",
       "usable_room            float64\n",
       "washing_machine        float64\n",
       "windows                 object\n",
       "year                   float64\n",
       "dtype: object"
      ]
     },
     "execution_count": 82,
     "metadata": {},
     "output_type": "execute_result"
    }
   ],
   "source": [
    "data.dtypes"
   ]
  },
  {
   "cell_type": "code",
   "execution_count": 83,
   "metadata": {},
   "outputs": [
    {
     "data": {
      "text/html": [
       "<div>\n",
       "<style>\n",
       "    .dataframe thead tr:only-child th {\n",
       "        text-align: right;\n",
       "    }\n",
       "\n",
       "    .dataframe thead th {\n",
       "        text-align: left;\n",
       "    }\n",
       "\n",
       "    .dataframe tbody tr th {\n",
       "        vertical-align: top;\n",
       "    }\n",
       "</style>\n",
       "<table border=\"1\" class=\"dataframe\">\n",
       "  <thead>\n",
       "    <tr style=\"text-align: right;\">\n",
       "      <th></th>\n",
       "      <th>ac</th>\n",
       "      <th>alarm</th>\n",
       "      <th>antiburglary_blinds</th>\n",
       "      <th>antiburglary_doors</th>\n",
       "      <th>balcony</th>\n",
       "      <th>cable_tv</th>\n",
       "      <th>cellar</th>\n",
       "      <th>dish_washer</th>\n",
       "      <th>duplex</th>\n",
       "      <th>fridge</th>\n",
       "      <th>furniture</th>\n",
       "      <th>garage</th>\n",
       "      <th>garden</th>\n",
       "      <th>intercom</th>\n",
       "      <th>internet</th>\n",
       "      <th>lift</th>\n",
       "      <th>oven</th>\n",
       "      <th>restricted_area</th>\n",
       "      <th>security</th>\n",
       "      <th>separate_kitchen</th>\n",
       "      <th>stove</th>\n",
       "      <th>telephone</th>\n",
       "      <th>terrace</th>\n",
       "      <th>tv</th>\n",
       "      <th>usable_room</th>\n",
       "      <th>washing_machine</th>\n",
       "      <th>year</th>\n",
       "    </tr>\n",
       "  </thead>\n",
       "  <tbody>\n",
       "    <tr>\n",
       "      <th>count</th>\n",
       "      <td>777.0</td>\n",
       "      <td>929.0</td>\n",
       "      <td>985.0</td>\n",
       "      <td>6844.0</td>\n",
       "      <td>22169.0</td>\n",
       "      <td>15000.0</td>\n",
       "      <td>14586.0</td>\n",
       "      <td>2639.0</td>\n",
       "      <td>1193.0</td>\n",
       "      <td>3725.0</td>\n",
       "      <td>6172.0</td>\n",
       "      <td>13751.0</td>\n",
       "      <td>2881.0</td>\n",
       "      <td>13277.0</td>\n",
       "      <td>16865.0</td>\n",
       "      <td>14293.0</td>\n",
       "      <td>4040.0</td>\n",
       "      <td>5907.0</td>\n",
       "      <td>6316.0</td>\n",
       "      <td>7090.0</td>\n",
       "      <td>4533.0</td>\n",
       "      <td>11171.0</td>\n",
       "      <td>3639.0</td>\n",
       "      <td>998.0</td>\n",
       "      <td>4618.0</td>\n",
       "      <td>2607.0</td>\n",
       "      <td>25280.000000</td>\n",
       "    </tr>\n",
       "    <tr>\n",
       "      <th>mean</th>\n",
       "      <td>1.0</td>\n",
       "      <td>1.0</td>\n",
       "      <td>1.0</td>\n",
       "      <td>1.0</td>\n",
       "      <td>1.0</td>\n",
       "      <td>1.0</td>\n",
       "      <td>1.0</td>\n",
       "      <td>1.0</td>\n",
       "      <td>1.0</td>\n",
       "      <td>1.0</td>\n",
       "      <td>1.0</td>\n",
       "      <td>1.0</td>\n",
       "      <td>1.0</td>\n",
       "      <td>1.0</td>\n",
       "      <td>1.0</td>\n",
       "      <td>1.0</td>\n",
       "      <td>1.0</td>\n",
       "      <td>1.0</td>\n",
       "      <td>1.0</td>\n",
       "      <td>1.0</td>\n",
       "      <td>1.0</td>\n",
       "      <td>1.0</td>\n",
       "      <td>1.0</td>\n",
       "      <td>1.0</td>\n",
       "      <td>1.0</td>\n",
       "      <td>1.0</td>\n",
       "      <td>1997.528244</td>\n",
       "    </tr>\n",
       "    <tr>\n",
       "      <th>std</th>\n",
       "      <td>0.0</td>\n",
       "      <td>0.0</td>\n",
       "      <td>0.0</td>\n",
       "      <td>0.0</td>\n",
       "      <td>0.0</td>\n",
       "      <td>0.0</td>\n",
       "      <td>0.0</td>\n",
       "      <td>0.0</td>\n",
       "      <td>0.0</td>\n",
       "      <td>0.0</td>\n",
       "      <td>0.0</td>\n",
       "      <td>0.0</td>\n",
       "      <td>0.0</td>\n",
       "      <td>0.0</td>\n",
       "      <td>0.0</td>\n",
       "      <td>0.0</td>\n",
       "      <td>0.0</td>\n",
       "      <td>0.0</td>\n",
       "      <td>0.0</td>\n",
       "      <td>0.0</td>\n",
       "      <td>0.0</td>\n",
       "      <td>0.0</td>\n",
       "      <td>0.0</td>\n",
       "      <td>0.0</td>\n",
       "      <td>0.0</td>\n",
       "      <td>0.0</td>\n",
       "      <td>207.656360</td>\n",
       "    </tr>\n",
       "    <tr>\n",
       "      <th>min</th>\n",
       "      <td>1.0</td>\n",
       "      <td>1.0</td>\n",
       "      <td>1.0</td>\n",
       "      <td>1.0</td>\n",
       "      <td>1.0</td>\n",
       "      <td>1.0</td>\n",
       "      <td>1.0</td>\n",
       "      <td>1.0</td>\n",
       "      <td>1.0</td>\n",
       "      <td>1.0</td>\n",
       "      <td>1.0</td>\n",
       "      <td>1.0</td>\n",
       "      <td>1.0</td>\n",
       "      <td>1.0</td>\n",
       "      <td>1.0</td>\n",
       "      <td>1.0</td>\n",
       "      <td>1.0</td>\n",
       "      <td>1.0</td>\n",
       "      <td>1.0</td>\n",
       "      <td>1.0</td>\n",
       "      <td>1.0</td>\n",
       "      <td>1.0</td>\n",
       "      <td>1.0</td>\n",
       "      <td>1.0</td>\n",
       "      <td>1.0</td>\n",
       "      <td>1.0</td>\n",
       "      <td>1.000000</td>\n",
       "    </tr>\n",
       "    <tr>\n",
       "      <th>25%</th>\n",
       "      <td>1.0</td>\n",
       "      <td>1.0</td>\n",
       "      <td>1.0</td>\n",
       "      <td>1.0</td>\n",
       "      <td>1.0</td>\n",
       "      <td>1.0</td>\n",
       "      <td>1.0</td>\n",
       "      <td>1.0</td>\n",
       "      <td>1.0</td>\n",
       "      <td>1.0</td>\n",
       "      <td>1.0</td>\n",
       "      <td>1.0</td>\n",
       "      <td>1.0</td>\n",
       "      <td>1.0</td>\n",
       "      <td>1.0</td>\n",
       "      <td>1.0</td>\n",
       "      <td>1.0</td>\n",
       "      <td>1.0</td>\n",
       "      <td>1.0</td>\n",
       "      <td>1.0</td>\n",
       "      <td>1.0</td>\n",
       "      <td>1.0</td>\n",
       "      <td>1.0</td>\n",
       "      <td>1.0</td>\n",
       "      <td>1.0</td>\n",
       "      <td>1.0</td>\n",
       "      <td>1983.000000</td>\n",
       "    </tr>\n",
       "    <tr>\n",
       "      <th>50%</th>\n",
       "      <td>1.0</td>\n",
       "      <td>1.0</td>\n",
       "      <td>1.0</td>\n",
       "      <td>1.0</td>\n",
       "      <td>1.0</td>\n",
       "      <td>1.0</td>\n",
       "      <td>1.0</td>\n",
       "      <td>1.0</td>\n",
       "      <td>1.0</td>\n",
       "      <td>1.0</td>\n",
       "      <td>1.0</td>\n",
       "      <td>1.0</td>\n",
       "      <td>1.0</td>\n",
       "      <td>1.0</td>\n",
       "      <td>1.0</td>\n",
       "      <td>1.0</td>\n",
       "      <td>1.0</td>\n",
       "      <td>1.0</td>\n",
       "      <td>1.0</td>\n",
       "      <td>1.0</td>\n",
       "      <td>1.0</td>\n",
       "      <td>1.0</td>\n",
       "      <td>1.0</td>\n",
       "      <td>1.0</td>\n",
       "      <td>1.0</td>\n",
       "      <td>1.0</td>\n",
       "      <td>2010.000000</td>\n",
       "    </tr>\n",
       "    <tr>\n",
       "      <th>75%</th>\n",
       "      <td>1.0</td>\n",
       "      <td>1.0</td>\n",
       "      <td>1.0</td>\n",
       "      <td>1.0</td>\n",
       "      <td>1.0</td>\n",
       "      <td>1.0</td>\n",
       "      <td>1.0</td>\n",
       "      <td>1.0</td>\n",
       "      <td>1.0</td>\n",
       "      <td>1.0</td>\n",
       "      <td>1.0</td>\n",
       "      <td>1.0</td>\n",
       "      <td>1.0</td>\n",
       "      <td>1.0</td>\n",
       "      <td>1.0</td>\n",
       "      <td>1.0</td>\n",
       "      <td>1.0</td>\n",
       "      <td>1.0</td>\n",
       "      <td>1.0</td>\n",
       "      <td>1.0</td>\n",
       "      <td>1.0</td>\n",
       "      <td>1.0</td>\n",
       "      <td>1.0</td>\n",
       "      <td>1.0</td>\n",
       "      <td>1.0</td>\n",
       "      <td>1.0</td>\n",
       "      <td>2018.000000</td>\n",
       "    </tr>\n",
       "    <tr>\n",
       "      <th>max</th>\n",
       "      <td>1.0</td>\n",
       "      <td>1.0</td>\n",
       "      <td>1.0</td>\n",
       "      <td>1.0</td>\n",
       "      <td>1.0</td>\n",
       "      <td>1.0</td>\n",
       "      <td>1.0</td>\n",
       "      <td>1.0</td>\n",
       "      <td>1.0</td>\n",
       "      <td>1.0</td>\n",
       "      <td>1.0</td>\n",
       "      <td>1.0</td>\n",
       "      <td>1.0</td>\n",
       "      <td>1.0</td>\n",
       "      <td>1.0</td>\n",
       "      <td>1.0</td>\n",
       "      <td>1.0</td>\n",
       "      <td>1.0</td>\n",
       "      <td>1.0</td>\n",
       "      <td>1.0</td>\n",
       "      <td>1.0</td>\n",
       "      <td>1.0</td>\n",
       "      <td>1.0</td>\n",
       "      <td>1.0</td>\n",
       "      <td>1.0</td>\n",
       "      <td>1.0</td>\n",
       "      <td>20133.000000</td>\n",
       "    </tr>\n",
       "  </tbody>\n",
       "</table>\n",
       "</div>"
      ],
      "text/plain": [
       "          ac  alarm  antiburglary_blinds  antiburglary_doors  balcony  \\\n",
       "count  777.0  929.0                985.0              6844.0  22169.0   \n",
       "mean     1.0    1.0                  1.0                 1.0      1.0   \n",
       "std      0.0    0.0                  0.0                 0.0      0.0   \n",
       "min      1.0    1.0                  1.0                 1.0      1.0   \n",
       "25%      1.0    1.0                  1.0                 1.0      1.0   \n",
       "50%      1.0    1.0                  1.0                 1.0      1.0   \n",
       "75%      1.0    1.0                  1.0                 1.0      1.0   \n",
       "max      1.0    1.0                  1.0                 1.0      1.0   \n",
       "\n",
       "       cable_tv   cellar  dish_washer  duplex  fridge  furniture   garage  \\\n",
       "count   15000.0  14586.0       2639.0  1193.0  3725.0     6172.0  13751.0   \n",
       "mean        1.0      1.0          1.0     1.0     1.0        1.0      1.0   \n",
       "std         0.0      0.0          0.0     0.0     0.0        0.0      0.0   \n",
       "min         1.0      1.0          1.0     1.0     1.0        1.0      1.0   \n",
       "25%         1.0      1.0          1.0     1.0     1.0        1.0      1.0   \n",
       "50%         1.0      1.0          1.0     1.0     1.0        1.0      1.0   \n",
       "75%         1.0      1.0          1.0     1.0     1.0        1.0      1.0   \n",
       "max         1.0      1.0          1.0     1.0     1.0        1.0      1.0   \n",
       "\n",
       "       garden  intercom  internet     lift    oven  restricted_area  security  \\\n",
       "count  2881.0   13277.0   16865.0  14293.0  4040.0           5907.0    6316.0   \n",
       "mean      1.0       1.0       1.0      1.0     1.0              1.0       1.0   \n",
       "std       0.0       0.0       0.0      0.0     0.0              0.0       0.0   \n",
       "min       1.0       1.0       1.0      1.0     1.0              1.0       1.0   \n",
       "25%       1.0       1.0       1.0      1.0     1.0              1.0       1.0   \n",
       "50%       1.0       1.0       1.0      1.0     1.0              1.0       1.0   \n",
       "75%       1.0       1.0       1.0      1.0     1.0              1.0       1.0   \n",
       "max       1.0       1.0       1.0      1.0     1.0              1.0       1.0   \n",
       "\n",
       "       separate_kitchen   stove  telephone  terrace     tv  usable_room  \\\n",
       "count            7090.0  4533.0    11171.0   3639.0  998.0       4618.0   \n",
       "mean                1.0     1.0        1.0      1.0    1.0          1.0   \n",
       "std                 0.0     0.0        0.0      0.0    0.0          0.0   \n",
       "min                 1.0     1.0        1.0      1.0    1.0          1.0   \n",
       "25%                 1.0     1.0        1.0      1.0    1.0          1.0   \n",
       "50%                 1.0     1.0        1.0      1.0    1.0          1.0   \n",
       "75%                 1.0     1.0        1.0      1.0    1.0          1.0   \n",
       "max                 1.0     1.0        1.0      1.0    1.0          1.0   \n",
       "\n",
       "       washing_machine          year  \n",
       "count           2607.0  25280.000000  \n",
       "mean               1.0   1997.528244  \n",
       "std                0.0    207.656360  \n",
       "min                1.0      1.000000  \n",
       "25%                1.0   1983.000000  \n",
       "50%                1.0   2010.000000  \n",
       "75%                1.0   2018.000000  \n",
       "max                1.0  20133.000000  "
      ]
     },
     "execution_count": 83,
     "metadata": {},
     "output_type": "execute_result"
    }
   ],
   "source": [
    "pd.set_option(\"display.max_columns\",50)\n",
    "data.describe()"
   ]
  },
  {
   "cell_type": "markdown",
   "metadata": {},
   "source": [
    "# Data preprocessing"
   ]
  },
  {
   "cell_type": "markdown",
   "metadata": {},
   "source": [
    "Changing variable year (year in which apartment was build) to be relative to current year"
   ]
  },
  {
   "cell_type": "code",
   "execution_count": 84,
   "metadata": {},
   "outputs": [],
   "source": [
    "from datetime import datetime\n",
    "\n",
    "now = datetime.now()\n",
    "data[\"year\"] = now.year - data[\"year\"]"
   ]
  },
  {
   "cell_type": "code",
   "execution_count": 85,
   "metadata": {},
   "outputs": [],
   "source": [
    "months = {\" Stycznia \":\".01.\",\n",
    "          \" Lutego \":\".02.\",\n",
    "          \" Marca \":\".03.\",\n",
    "          \" Kwietnia \":\".04.\",\n",
    "          \" Maja \":\".05.\",\n",
    "          \" Czerwca \":\".06.\",\n",
    "          \" Lipca \":\".07.\",\n",
    "          \" Sierpnia \":\".08.\",\n",
    "          \" Września \":\".09.\",\n",
    "          \" Października \":\".10.\",\n",
    "          \" Listopada \":\".11.\",\n",
    "          \" Grudnia \":\".12.\"\n",
    "         }\n",
    "\n",
    "for name, value in months.items():\n",
    "     data[\"available_from\"] = data[\"available_from\"].str.replace(name, value)\n",
    "\n",
    "data[\"available_from\"] = data[\"available_from\"].str.replace(\" \",\"\")        \n",
    "data[\"available_from\"] = data[\"available_from\"].fillna(\"\") #to replace empty floats with strings"
   ]
  },
  {
   "cell_type": "code",
   "execution_count": 86,
   "metadata": {},
   "outputs": [],
   "source": [
    "def format_to_date(i, date_format):\n",
    "    if i is not None and i != \"\":\n",
    "        delta = datetime.strptime(str(i), date_format) - datetime.today()\n",
    "        return (delta).days\n",
    "    else:\n",
    "        return None"
   ]
  },
  {
   "cell_type": "code",
   "execution_count": 87,
   "metadata": {},
   "outputs": [],
   "source": [
    "date_format = \"%d.%m.%Y\"\n",
    "\n",
    "data[\"available_from\"] = [ format_to_date(i, date_format) for i in data[\"available_from\"]]"
   ]
  },
  {
   "cell_type": "markdown",
   "metadata": {},
   "source": [
    "Converting price variable from str to float.  \n",
    "Removing empty values and rows with price is in foreign currencty to avoid currency exchange (there are only few of them so they are not so valuable)"
   ]
  },
  {
   "cell_type": "code",
   "execution_count": 88,
   "metadata": {},
   "outputs": [],
   "source": [
    "data = data[~data[\"price\"].str.contains(\"GBP|USD|EUR\", na=False, regex=True)]\n",
    "data[\"price\"] = data[\"price\"].str.replace(\",\", \".\").str.replace(\" \", \"\").str.replace(\"zł\", \"\").astype(float)\n",
    "data = data[pd.notnull(data[\"price\"])]"
   ]
  },
  {
   "cell_type": "code",
   "execution_count": 89,
   "metadata": {},
   "outputs": [
    {
     "data": {
      "text/plain": [
       "<matplotlib.axes._subplots.AxesSubplot at 0x2163d6beb38>"
      ]
     },
     "execution_count": 89,
     "metadata": {},
     "output_type": "execute_result"
    },
    {
     "data": {
      "image/png": "[encoded data removed]",
      "text/plain": [
       "<matplotlib.figure.Figure at 0x216250bb080>"
      ]
     },
     "metadata": {},
     "output_type": "display_data"
    }
   ],
   "source": [
    "plt.xlim(0,1000000)\n",
    "data[\"price\"].plot.density()"
   ]
  },
  {
   "cell_type": "markdown",
   "metadata": {},
   "source": [
    "Let's check if price has nromal distribution"
   ]
  },
  {
   "cell_type": "code",
   "execution_count": 90,
   "metadata": {},
   "outputs": [],
   "source": [
    "#from scipy.stats import mstats"
   ]
  },
  {
   "cell_type": "code",
   "execution_count": 91,
   "metadata": {},
   "outputs": [],
   "source": [
    "#mstats.normaltest(data[\"price\"])"
   ]
  },
  {
   "cell_type": "code",
   "execution_count": null,
   "metadata": {},
   "outputs": [],
   "source": []
  },
  {
   "cell_type": "code",
   "execution_count": 92,
   "metadata": {},
   "outputs": [],
   "source": [
    "#quant = data[\"price\"].quantile([0.25, 0.75])\n",
    "#print(quant)"
   ]
  },
  {
   "cell_type": "code",
   "execution_count": 93,
   "metadata": {},
   "outputs": [],
   "source": [
    "#data = data[data[\"price\"] < quant[0.95]]\n",
    "#data = data[data[\"price\"] > quant[0.05]]"
   ]
  },
  {
   "cell_type": "code",
   "execution_count": 94,
   "metadata": {},
   "outputs": [],
   "source": [
    "#data.shape"
   ]
  },
  {
   "cell_type": "code",
   "execution_count": 95,
   "metadata": {},
   "outputs": [],
   "source": [
    "#plt.xlim(10,15)\n",
    "#np.log(data[\"price\"]).plot.density()"
   ]
  },
  {
   "cell_type": "markdown",
   "metadata": {},
   "source": [
    "Address variable - spliting into 3 parts (city, district and street)"
   ]
  },
  {
   "cell_type": "code",
   "execution_count": 96,
   "metadata": {},
   "outputs": [],
   "source": [
    "data[\"address\"] = data[\"address\"].str.replace(\"Mieszkanie na sprzedaż,\",\"\")\n",
    "address_df = data[\"address\"].str.split(\",\", expand=True)\n",
    "address_df.columns = [\"city\", \"district\", \"street\"]\n",
    "data = data.drop([\"address\"], axis=1)\n",
    "data = pd.concat([data, address_df], axis=1)"
   ]
  },
  {
   "cell_type": "markdown",
   "metadata": {},
   "source": [
    "Converting m2 variable (area of apartment) from str to float."
   ]
  },
  {
   "cell_type": "code",
   "execution_count": 97,
   "metadata": {},
   "outputs": [],
   "source": [
    "data[\"m2\"] = data[\"m2\"].str.replace(\" m²\",\"\").str.replace(\",\", \".\").str.replace(\" \", \"\").astype(float)"
   ]
  },
  {
   "cell_type": "code",
   "execution_count": 98,
   "metadata": {},
   "outputs": [
    {
     "data": {
      "text/plain": [
       "<matplotlib.axes._subplots.AxesSubplot at 0x21626ef8d68>"
      ]
     },
     "execution_count": 98,
     "metadata": {},
     "output_type": "execute_result"
    },
    {
     "data": {
      "image/png": "[encoded data removed]",
      "text/plain": [
       "<matplotlib.figure.Figure at 0x2162648e208>"
      ]
     },
     "metadata": {},
     "output_type": "display_data"
    }
   ],
   "source": [
    "plt.xlim(0,500)\n",
    "data[\"m2\"].plot.density()"
   ]
  },
  {
   "cell_type": "markdown",
   "metadata": {},
   "source": [
    "Converting rent variabe (rent paid monthly for apartment) from str to float."
   ]
  },
  {
   "cell_type": "code",
   "execution_count": 99,
   "metadata": {},
   "outputs": [],
   "source": [
    "data[\"rent\"] = data[\"rent\"].str.replace(\" zł\",\"\").str.replace(\",\", \".\").str.replace(\" \", \"\").astype(float)"
   ]
  },
  {
   "cell_type": "markdown",
   "metadata": {},
   "source": [
    "Converting max_floor variable (number of floors in the buidling) from str to int."
   ]
  },
  {
   "cell_type": "code",
   "execution_count": 100,
   "metadata": {},
   "outputs": [],
   "source": [
    "data[\"max_floor\"] = data[\"max_floor\"].str.replace(\"\\(z \",\"\").str.replace(\"\\)\", \"\").astype(float)"
   ]
  },
  {
   "cell_type": "markdown",
   "metadata": {},
   "source": [
    "Converting max_floor variable (number of floors in the buidling) from str to int."
   ]
  },
  {
   "cell_type": "code",
   "execution_count": 101,
   "metadata": {},
   "outputs": [],
   "source": [
    "data.loc[data[\"floor\"]==\"parter\", \"floor\"] = 0\n",
    "data.loc[data[\"floor\"]==\"> 10\", \"floor\"] = 11\n",
    "data.loc[data[\"floor\"]==\"suterena\", \"floor\"] = -1\n",
    "data.loc[data[\"floor\"]==\"poddasze\", \"floor\"] = data[\"max_floor\"] #assuming that value provided in max_floor variable is real\n",
    "data[\"floor\"] = data[\"floor\"].astype(float)"
   ]
  },
  {
   "cell_type": "markdown",
   "metadata": {},
   "source": [
    "Converting rooms_n variable (number of rooms in apartment) from str to int."
   ]
  },
  {
   "cell_type": "code",
   "execution_count": 102,
   "metadata": {},
   "outputs": [],
   "source": [
    "data.loc[data[\"rooms_n\"]==\"więcej niż 10\", \"rooms_n\"] = 11\n",
    "data[\"rooms_n\"] = data[\"rooms_n\"].astype(float)"
   ]
  },
  {
   "cell_type": "markdown",
   "metadata": {},
   "source": [
    "Dropping variables which are insignificant for our model"
   ]
  },
  {
   "cell_type": "code",
   "execution_count": 103,
   "metadata": {},
   "outputs": [],
   "source": [
    "data = data.drop([\"description\",\"name\"], axis=1)"
   ]
  },
  {
   "cell_type": "markdown",
   "metadata": {},
   "source": [
    "### Checking number of degrees in categorical variables and transforming values into separate columns"
   ]
  },
  {
   "cell_type": "markdown",
   "metadata": {},
   "source": [
    "Variables building_material and building_type have values with insignificiant number of values in most of the categories.\n",
    "Im grouping them into one category."
   ]
  },
  {
   "cell_type": "code",
   "execution_count": 104,
   "metadata": {},
   "outputs": [
    {
     "data": {
      "text/plain": [
       "<matplotlib.axes._subplots.AxesSubplot at 0x2163caa6048>"
      ]
     },
     "execution_count": 104,
     "metadata": {},
     "output_type": "execute_result"
    },
    {
     "data": {
      "image/png": "[encoded data removed]",
      "text/plain": [
       "<matplotlib.figure.Figure at 0x2163df1cda0>"
      ]
     },
     "metadata": {},
     "output_type": "display_data"
    }
   ],
   "source": [
    "plt.rcParams[\"figure.figsize\"] = [16.0, 4.0]\n",
    "data[\"building_material\"].hist()"
   ]
  },
  {
   "cell_type": "code",
   "execution_count": 105,
   "metadata": {},
   "outputs": [],
   "source": [
    "data.loc[~data[\"building_material\"].str.contains(\"cegła|wielka płyta|pustak\", na=False, regex=True), 'building_material'] = 'inne'"
   ]
  },
  {
   "cell_type": "code",
   "execution_count": 106,
   "metadata": {},
   "outputs": [
    {
     "data": {
      "text/plain": [
       "<matplotlib.axes._subplots.AxesSubplot at 0x216404f05c0>"
      ]
     },
     "execution_count": 106,
     "metadata": {},
     "output_type": "execute_result"
    },
    {
     "data": {
      "image/png": "[encoded data removed]",
      "text/plain": [
       "<matplotlib.figure.Figure at 0x216492764a8>"
      ]
     },
     "metadata": {},
     "output_type": "display_data"
    }
   ],
   "source": [
    "data[\"building_material\"].hist()"
   ]
  },
  {
   "cell_type": "code",
   "execution_count": 107,
   "metadata": {},
   "outputs": [
    {
     "data": {
      "text/plain": [
       "<matplotlib.axes._subplots.AxesSubplot at 0x216267af860>"
      ]
     },
     "execution_count": 107,
     "metadata": {},
     "output_type": "execute_result"
    },
    {
     "data": {
      "image/png": "[encoded data removed]",
      "text/plain": [
       "<matplotlib.figure.Figure at 0x2163e41d5f8>"
      ]
     },
     "metadata": {},
     "output_type": "display_data"
    }
   ],
   "source": [
    "data[\"building_status\"].hist()"
   ]
  },
  {
   "cell_type": "code",
   "execution_count": 108,
   "metadata": {},
   "outputs": [
    {
     "data": {
      "text/plain": [
       "<matplotlib.axes._subplots.AxesSubplot at 0x2163cddffd0>"
      ]
     },
     "execution_count": 108,
     "metadata": {},
     "output_type": "execute_result"
    },
    {
     "data": {
      "image/png": "[encoded data removed]",
      "text/plain": [
       "<matplotlib.figure.Figure at 0x2163e80ed30>"
      ]
     },
     "metadata": {},
     "output_type": "display_data"
    }
   ],
   "source": [
    "data[\"building_type\"].hist()"
   ]
  },
  {
   "cell_type": "code",
   "execution_count": 109,
   "metadata": {},
   "outputs": [],
   "source": [
    "data.loc[~data[\"building_type\"].str.contains(\"blok|apartamentowiec|kamienica\", na=False, regex=True), 'building_type'] = 'inne'"
   ]
  },
  {
   "cell_type": "code",
   "execution_count": 110,
   "metadata": {},
   "outputs": [
    {
     "data": {
      "text/plain": [
       "<matplotlib.axes._subplots.AxesSubplot at 0x2163e233128>"
      ]
     },
     "execution_count": 110,
     "metadata": {},
     "output_type": "execute_result"
    },
    {
     "data": {
      "image/png": "[encoded data removed]",
      "text/plain": [
       "<matplotlib.figure.Figure at 0x2163e11d978>"
      ]
     },
     "metadata": {},
     "output_type": "display_data"
    }
   ],
   "source": [
    "data[\"building_type\"].hist()"
   ]
  },
  {
   "cell_type": "code",
   "execution_count": 111,
   "metadata": {},
   "outputs": [
    {
     "data": {
      "text/plain": [
       "<matplotlib.axes._subplots.AxesSubplot at 0x2163e9a9588>"
      ]
     },
     "execution_count": 111,
     "metadata": {},
     "output_type": "execute_result"
    },
    {
     "data": {
      "image/png": "[encoded data removed]",
      "text/plain": [
       "<matplotlib.figure.Figure at 0x2163e0b3da0>"
      ]
     },
     "metadata": {},
     "output_type": "display_data"
    }
   ],
   "source": [
    "data[\"possession_type\"].hist()"
   ]
  },
  {
   "cell_type": "code",
   "execution_count": 112,
   "metadata": {},
   "outputs": [
    {
     "data": {
      "text/plain": [
       "<matplotlib.axes._subplots.AxesSubplot at 0x2163e544cf8>"
      ]
     },
     "execution_count": 112,
     "metadata": {},
     "output_type": "execute_result"
    },
    {
     "data": {
      "image/png": "[encoded data removed]",
      "text/plain": [
       "<matplotlib.figure.Figure at 0x2163e883c88>"
      ]
     },
     "metadata": {},
     "output_type": "display_data"
    }
   ],
   "source": [
    "data[\"heating\"].hist()"
   ]
  },
  {
   "cell_type": "code",
   "execution_count": 113,
   "metadata": {},
   "outputs": [],
   "source": [
    "data.loc[~data[\"heating\"].str.contains(\"miejskie|gazowe\", na=False, regex=True), 'heating'] = 'inne'"
   ]
  },
  {
   "cell_type": "code",
   "execution_count": 114,
   "metadata": {},
   "outputs": [
    {
     "data": {
      "text/plain": [
       "<matplotlib.axes._subplots.AxesSubplot at 0x2164068bb00>"
      ]
     },
     "execution_count": 114,
     "metadata": {},
     "output_type": "execute_result"
    },
    {
     "data": {
      "image/png": "[encoded data removed]",
      "text/plain": [
       "<matplotlib.figure.Figure at 0x2163e902cc0>"
      ]
     },
     "metadata": {},
     "output_type": "display_data"
    }
   ],
   "source": [
    "data[\"heating\"].hist()"
   ]
  },
  {
   "cell_type": "markdown",
   "metadata": {},
   "source": [
    "Removing spaces from values to avoid column names with spaces after applying get_dummies function."
   ]
  },
  {
   "cell_type": "code",
   "execution_count": 115,
   "metadata": {},
   "outputs": [],
   "source": [
    "data[\"building_material\"] = data[\"building_material\"].str.replace(\" \",\"\")\n",
    "data[\"building_status\"] = data[\"building_status\"].str.replace(\" \",\"\")\n",
    "data[\"building_type\"] = data[\"building_type\"].str.replace(\" \",\"\")\n",
    "data[\"possession_type\"] = data[\"possession_type\"].str.replace(\" \",\"\")\n",
    "data[\"heating\"] = data[\"heating\"].str.replace(\" \",\"\")"
   ]
  },
  {
   "cell_type": "markdown",
   "metadata": {},
   "source": [
    "Imputing 0 in every bit column. Otodom website doesn't show 0 values for those columns (it's either 1 or NULL), so right now we are assuming that users provided true data :)"
   ]
  },
  {
   "cell_type": "code",
   "execution_count": 116,
   "metadata": {},
   "outputs": [],
   "source": [
    "bit_columns = list(data.max().loc[data.max()==1].index)\n",
    "data[bit_columns] = data[bit_columns].fillna(0).astype(int)"
   ]
  },
  {
   "cell_type": "markdown",
   "metadata": {},
   "source": [
    "# Training models"
   ]
  },
  {
   "cell_type": "markdown",
   "metadata": {},
   "source": [
    "First of all we try to train our models on data without addresses and see what happens"
   ]
  },
  {
   "cell_type": "code",
   "execution_count": 117,
   "metadata": {},
   "outputs": [],
   "source": [
    "data_wo_address = data.drop([\"city\",\"district\",\"street\"], axis=1)"
   ]
  },
  {
   "cell_type": "markdown",
   "metadata": {},
   "source": [
    "Converting categorical variables into _n_ new variables base on their values"
   ]
  },
  {
   "cell_type": "code",
   "execution_count": 118,
   "metadata": {},
   "outputs": [],
   "source": [
    "data_wo_address = pd.get_dummies(data_wo_address)"
   ]
  },
  {
   "cell_type": "code",
   "execution_count": 119,
   "metadata": {},
   "outputs": [],
   "source": [
    "X = data_wo_address.drop([\"price\"], axis=1)\n",
    "y = data_wo_address[\"price\"]"
   ]
  },
  {
   "cell_type": "code",
   "execution_count": 120,
   "metadata": {},
   "outputs": [],
   "source": [
    "X_train, X_test, y_train, y_test = train_test_split(X,y,test_size=0.33)"
   ]
  },
  {
   "cell_type": "markdown",
   "metadata": {},
   "source": [
    "Create models with deafult parameters and measure the outcomes"
   ]
  },
  {
   "cell_type": "code",
   "execution_count": 41,
   "metadata": {},
   "outputs": [],
   "source": [
    "base = [\n",
    "    (\"imputer\", Imputer(strategy=\"mean\", axis=0)),\n",
    "    (\"scale\", MinMaxScaler())\n",
    "]\n",
    "\n",
    "models = [\n",
    "    (\"linear\", LinearRegression()),\n",
    "    (\"forest\", RandomForestRegressor()),\n",
    "    (\"svr\", SVR()),\n",
    "    (\"xgb\", XGBRegressor())\n",
    "]"
   ]
  },
  {
   "cell_type": "code",
   "execution_count": 42,
   "metadata": {},
   "outputs": [],
   "source": [
    "best_models = []\n",
    "for i, model in enumerate(models):\n",
    "    \n",
    "    steps = base.copy()\n",
    "    steps.append(model)\n",
    "    pipe = Pipeline(steps)\n",
    "\n",
    "    pipe.fit(X_train,y_train)\n",
    "    best_models.append(pipe)"
   ]
  },
  {
   "cell_type": "code",
   "execution_count": 44,
   "metadata": {},
   "outputs": [
    {
     "name": "stdout",
     "output_type": "stream",
     "text": [
      "Pipeline(memory=None,\n",
      "     steps=[('imputer', Imputer(axis=0, copy=True, missing_values='NaN', strategy='mean', verbose=0)), ('scale', MinMaxScaler(copy=True, feature_range=(0, 1))), ('linear', LinearRegression(copy_X=True, fit_intercept=True, n_jobs=1, normalize=False))]) \n",
      " R^2: 0.3900204409261173, MSE: 86472923012.54535\n",
      "Pipeline(memory=None,\n",
      "     steps=[('imputer', Imputer(axis=0, copy=True, missing_values='NaN', strategy='mean', verbose=0)), ('scale', MinMaxScaler(copy=True, feature_range=(0, 1))), ('forest', RandomForestRegressor(bootstrap=True, criterion='mse', max_depth=None,\n",
      "           max_features='auto', max_leaf_nodes=None,\n",
      "         ...timators=10, n_jobs=1,\n",
      "           oob_score=False, random_state=None, verbose=0, warm_start=False))]) \n",
      " R^2: 0.6127989891461327, MSE: 54891024959.56049\n",
      "Pipeline(memory=None,\n",
      "     steps=[('imputer', Imputer(axis=0, copy=True, missing_values='NaN', strategy='mean', verbose=0)), ('scale', MinMaxScaler(copy=True, feature_range=(0, 1))), ('svr', SVR(C=1.0, cache_size=200, coef0=0.0, degree=3, epsilon=0.1, gamma='auto',\n",
      "  kernel='rbf', max_iter=-1, shrinking=True, tol=0.001, verbose=False))]) \n",
      " R^2: -0.044320689782984424, MSE: 148046702983.1637\n",
      "XGBRegressor(base_score=0.5, colsample_bylevel=1, colsample_bytree=1, gamma=0,\n",
      "       learning_rate=0.1, max_delta_step=0, max_depth=3,\n",
      "       min_child_weight=1, missing=None, n_estimators=100, nthread=-1,\n",
      "       objective='reg:linear', reg_alpha=0, reg_lambda=1,\n",
      "       scale_pos_weight=1, seed=0, silent=True, subsample=1) \n",
      " R^2: 0.6178046438173594, MSE: 54181405129.5623\n"
     ]
    }
   ],
   "source": [
    "for model in best_models:\n",
    "    print(\"{} \\n R^2: {}, MSE: {}\".format(model,\n",
    "                                        r2_score(y_test,model.predict(X_test)),\n",
    "                                        mean_squared_error(y_test,model.predict(X_test))))"
   ]
  },
  {
   "cell_type": "markdown",
   "metadata": {},
   "source": [
    "## Lets try to boost results of our models"
   ]
  },
  {
   "cell_type": "markdown",
   "metadata": {},
   "source": [
    "Re-add city and district variables to our analysis and use PCA on converted dummies to reduce dimentionality."
   ]
  },
  {
   "cell_type": "code",
   "execution_count": null,
   "metadata": {},
   "outputs": [],
   "source": [
    "data_pca = data"
   ]
  },
  {
   "cell_type": "code",
   "execution_count": 45,
   "metadata": {},
   "outputs": [],
   "source": [
    "data_pca[\"district\"] = data_pca[\"city\"] + \"-\" + data_pca[\"district\"]"
   ]
  },
  {
   "cell_type": "code",
   "execution_count": 46,
   "metadata": {},
   "outputs": [],
   "source": [
    "data_pca.loc[data_pca[\"district\"].isnull(), \"district\"] = data_pca[\"city\"]"
   ]
  },
  {
   "cell_type": "code",
   "execution_count": 47,
   "metadata": {},
   "outputs": [],
   "source": [
    "data_pca = data_pca.drop([\"street\",\"city\"], axis=1)"
   ]
  },
  {
   "cell_type": "code",
   "execution_count": 48,
   "metadata": {},
   "outputs": [],
   "source": [
    "data_pca = pd.get_dummies(data_pca)"
   ]
  },
  {
   "cell_type": "code",
   "execution_count": 49,
   "metadata": {},
   "outputs": [],
   "source": [
    "X = data_pca.drop([\"price\"], axis=1)\n",
    "y = data_pca[\"price\"]"
   ]
  },
  {
   "cell_type": "code",
   "execution_count": 50,
   "metadata": {},
   "outputs": [],
   "source": [
    "X_train, X_test, y_train, y_test = train_test_split(X,y,test_size=0.33)"
   ]
  },
  {
   "cell_type": "markdown",
   "metadata": {},
   "source": [
    "GridSearchCV doesn't allow NaNs so we have to imput missing data before grid search"
   ]
  },
  {
   "cell_type": "code",
   "execution_count": 51,
   "metadata": {},
   "outputs": [],
   "source": [
    "imputer = Imputer(strategy=\"mean\", axis=0)\n",
    "X_train = pd.DataFrame(imputer.fit_transform(X_train), columns=X.columns)\n",
    "X_test = pd.DataFrame(imputer.transform(X_test), columns=X.columns)"
   ]
  },
  {
   "cell_type": "code",
   "execution_count": 52,
   "metadata": {},
   "outputs": [],
   "source": [
    "base = [\n",
    "    (\"scale\", MinMaxScaler()),\n",
    "    (\"pca\", PCA())\n",
    "]\n",
    "\n",
    "models = [\n",
    "    (\"linear\",LinearRegression()),\n",
    "    (\"forest\",RandomForestRegressor()),\n",
    "    (\"svr\",SVR()),\n",
    "    (\"xgb\",XGBRegressor())\n",
    "]\n",
    "\n",
    "param_grids = [\n",
    "    {\"pca__n_components\":[10,50,100]},\n",
    "    {\"pca__n_components\":[10,50,100]},\n",
    "    {\"pca__n_components\":[10,50,100]},\n",
    "    {\"pca__n_components\":[10,50,100]},\n",
    "    #{\"model__normalize\":[True,False]},\n",
    "    #{\"forest__n_estimators\":[10,100,1000],\"forest__min_samples_leaf\":[5,25,50,100],\"forest__max_depth\":[5,10,15,25]}\n",
    "]"
   ]
  },
  {
   "cell_type": "code",
   "execution_count": 53,
   "metadata": {},
   "outputs": [
    {
     "name": "stderr",
     "output_type": "stream",
     "text": [
      "C:\\ProgramData\\Anaconda3\\lib\\site-packages\\sklearn\\model_selection\\_search.py:761: DeprecationWarning: The grid_scores_ attribute was deprecated in version 0.18 in favor of the more elaborate cv_results_ attribute. The grid_scores_ attribute will not be available from 0.20\n",
      "  DeprecationWarning)\n"
     ]
    },
    {
     "name": "stdout",
     "output_type": "stream",
     "text": [
      "[mean: 0.13509, std: 0.02380, params: {'pca__n_components': 10},\n",
      " mean: 0.18090, std: 0.07305, params: {'pca__n_components': 50},\n",
      " mean: -0.62383, std: 1.44517, params: {'pca__n_components': 100}]\n",
      "[mean: -0.00430, std: 0.28746, params: {'forest__n_estimators': 10, 'pca__n_components': 10},\n",
      " mean: 0.16704, std: 0.14079, params: {'forest__n_estimators': 10, 'pca__n_components': 50},\n",
      " mean: 0.36554, std: 0.02131, params: {'forest__n_estimators': 10, 'pca__n_components': 100},\n",
      " mean: 0.11703, std: 0.20410, params: {'forest__n_estimators': 100, 'pca__n_components': 10},\n",
      " mean: 0.17028, std: 0.20147, params: {'forest__n_estimators': 100, 'pca__n_components': 50},\n",
      " mean: 0.45455, std: 0.05446, params: {'forest__n_estimators': 100, 'pca__n_components': 100}]\n"
     ]
    },
    {
     "name": "stderr",
     "output_type": "stream",
     "text": [
      "C:\\ProgramData\\Anaconda3\\lib\\site-packages\\sklearn\\model_selection\\_search.py:761: DeprecationWarning: The grid_scores_ attribute was deprecated in version 0.18 in favor of the more elaborate cv_results_ attribute. The grid_scores_ attribute will not be available from 0.20\n",
      "  DeprecationWarning)\n"
     ]
    }
   ],
   "source": [
    "best_models = []\n",
    "for i, model in enumerate(models):\n",
    "    \n",
    "    steps = base.copy()\n",
    "    steps.append(model)\n",
    "    pipe = Pipeline(steps)\n",
    "\n",
    "    gs = GridSearchCV(estimator=pipe, param_grid=param_grids[i])\n",
    "    gs.fit(X_train,y_train)\n",
    "    pprint.pprint(gs.cv_results_)\n",
    "    best_models.append((models[i][0], gs.best_params_, gs.best_estimator_))"
   ]
  },
  {
   "cell_type": "code",
   "execution_count": 76,
   "metadata": {},
   "outputs": [
    {
     "ename": "KeyError",
     "evalue": "0",
     "output_type": "error",
     "traceback": [
      "\u001b[1;31m---------------------------------------------------------------------------\u001b[0m",
      "\u001b[1;31mKeyError\u001b[0m                                  Traceback (most recent call last)",
      "\u001b[1;32m<ipython-input-76-2169880fe397>\u001b[0m in \u001b[0;36m<module>\u001b[1;34m()\u001b[0m\n\u001b[0;32m      1\u001b[0m \u001b[1;32mfor\u001b[0m \u001b[0mmodel\u001b[0m \u001b[1;32min\u001b[0m \u001b[0mbest_models\u001b[0m\u001b[1;33m:\u001b[0m\u001b[1;33m\u001b[0m\u001b[0m\n\u001b[1;32m----> 2\u001b[1;33m     print(\"{} with params {}\\n R^2: {}, MSE: {}\".format(model[0], \n\u001b[0m\u001b[0;32m      3\u001b[0m                                           \u001b[0mmodel\u001b[0m\u001b[1;33m[\u001b[0m\u001b[1;36m1\u001b[0m\u001b[1;33m]\u001b[0m\u001b[1;33m,\u001b[0m\u001b[1;33m\u001b[0m\u001b[0m\n\u001b[0;32m      4\u001b[0m                                           \u001b[0mr2_score\u001b[0m\u001b[1;33m(\u001b[0m\u001b[0my_test\u001b[0m\u001b[1;33m,\u001b[0m\u001b[0mmodel\u001b[0m\u001b[1;33m[\u001b[0m\u001b[1;36m2\u001b[0m\u001b[1;33m]\u001b[0m\u001b[1;33m.\u001b[0m\u001b[0mpredict\u001b[0m\u001b[1;33m(\u001b[0m\u001b[0mX_test\u001b[0m\u001b[1;33m)\u001b[0m\u001b[1;33m)\u001b[0m\u001b[1;33m,\u001b[0m\u001b[1;33m\u001b[0m\u001b[0m\n\u001b[0;32m      5\u001b[0m                                           mean_squared_error(y_test,model[2].predict(X_test))))\n",
      "\u001b[1;31mKeyError\u001b[0m: 0"
     ]
    }
   ],
   "source": [
    "for model in best_models:\n",
    "    print(\"{} with params {}\\n R^2: {}, MSE: {}\".format(model[0], \n",
    "                                          model[1],\n",
    "                                          r2_score(y_test,model[2].predict(X_test)),\n",
    "                                          mean_squared_error(y_test,model[2].predict(X_test))))"
   ]
  },
  {
   "cell_type": "markdown",
   "metadata": {},
   "source": [
    "PCA method didn't give expected (positive) results, so lets try converting address just like other categorical variables and use gridsearch to search for best parameters of models"
   ]
  },
  {
   "cell_type": "code",
   "execution_count": null,
   "metadata": {},
   "outputs": [],
   "source": []
  },
  {
   "cell_type": "code",
   "execution_count": 59,
   "metadata": {},
   "outputs": [],
   "source": []
  },
  {
   "cell_type": "code",
   "execution_count": null,
   "metadata": {},
   "outputs": [],
   "source": []
  },
  {
   "cell_type": "code",
   "execution_count": null,
   "metadata": {},
   "outputs": [],
   "source": []
  },
  {
   "cell_type": "code",
   "execution_count": null,
   "metadata": {},
   "outputs": [],
   "source": []
  },
  {
   "cell_type": "code",
   "execution_count": null,
   "metadata": {},
   "outputs": [],
   "source": []
  },
  {
   "cell_type": "code",
   "execution_count": null,
   "metadata": {},
   "outputs": [],
   "source": []
  },
  {
   "cell_type": "code",
   "execution_count": null,
   "metadata": {},
   "outputs": [],
   "source": []
  },
  {
   "cell_type": "code",
   "execution_count": null,
   "metadata": {},
   "outputs": [],
   "source": []
  },
  {
   "cell_type": "code",
   "execution_count": null,
   "metadata": {},
   "outputs": [],
   "source": []
  },
  {
   "cell_type": "code",
   "execution_count": null,
   "metadata": {},
   "outputs": [],
   "source": []
  },
  {
   "cell_type": "code",
   "execution_count": null,
   "metadata": {},
   "outputs": [],
   "source": []
  },
  {
   "cell_type": "code",
   "execution_count": null,
   "metadata": {},
   "outputs": [],
   "source": []
  },
  {
   "cell_type": "code",
   "execution_count": null,
   "metadata": {},
   "outputs": [],
   "source": []
  },
  {
   "cell_type": "code",
   "execution_count": null,
   "metadata": {},
   "outputs": [],
   "source": []
  }
 ],
 "metadata": {
  "kernelspec": {
   "display_name": "Python 3",
   "language": "python",
   "name": "python3"
  },
  "language_info": {
   "codemirror_mode": {
    "name": "ipython",
    "version": 3
   },
   "file_extension": ".py",
   "mimetype": "text/x-python",
   "name": "python",
   "nbconvert_exporter": "python",
   "pygments_lexer": "ipython3",
   "version": "3.6.3"
  }
 },
 "nbformat": 4,
 "nbformat_minor": 2
}
