{
 "cells": [
  {
   "cell_type": "code",
   "execution_count": 312,
   "metadata": {},
   "outputs": [],
   "source": [
    "import numpy as np\n",
    "import pandas as pd\n",
    "import matplotlib.pyplot as plt\n",
    "import seaborn as sns\n",
    "import scipy.stats as ss\n",
    "\n",
    "from sklearn.preprocessing import Imputer, MinMaxScaler\n",
    "from sklearn.pipeline import Pipeline\n",
    "from sklearn.model_selection import GridSearchCV, RandomizedSearchCV, train_test_split\n",
    "from sklearn.linear_model import LinearRegression\n",
    "from sklearn.ensemble import RandomForestRegressor\n",
    "from sklearn.svm import SVR\n",
    "from sklearn.metrics import mean_squared_error, r2_score\n",
    "from sklearn.decomposition import PCA\n",
    "\n",
    "import xgboost as xgb\n",
    "from xgboost.sklearn import XGBRegressor\n",
    "\n",
    "import pprint\n",
    "%matplotlib inline"
   ]
  },
  {
   "cell_type": "markdown",
   "metadata": {},
   "source": [
    "Importing data and verifying basic parameters"
   ]
  },
  {
   "cell_type": "code",
   "execution_count": 313,
   "metadata": {},
   "outputs": [],
   "source": [
    "data = pd.read_csv(\"./otodom/otodom.csv\", sep=\",\")"
   ]
  },
  {
   "cell_type": "code",
   "execution_count": 314,
   "metadata": {},
   "outputs": [
    {
     "data": {
      "text/plain": [
       "(36080, 44)"
      ]
     },
     "execution_count": 314,
     "metadata": {},
     "output_type": "execute_result"
    }
   ],
   "source": [
    "data.shape"
   ]
  },
  {
   "cell_type": "code",
   "execution_count": 315,
   "metadata": {},
   "outputs": [
    {
     "data": {
      "text/plain": [
       "ac                     float64\n",
       "address                 object\n",
       "alarm                  float64\n",
       "antiburglary_blinds    float64\n",
       "antiburglary_doors     float64\n",
       "available_from          object\n",
       "balcony                float64\n",
       "building_material       object\n",
       "building_status         object\n",
       "building_type           object\n",
       "cable_tv               float64\n",
       "cellar                 float64\n",
       "description             object\n",
       "dish_washer            float64\n",
       "duplex                 float64\n",
       "floor                   object\n",
       "fridge                 float64\n",
       "furniture              float64\n",
       "garage                 float64\n",
       "garden                 float64\n",
       "heating                 object\n",
       "intercom               float64\n",
       "internet               float64\n",
       "lift                   float64\n",
       "m2                      object\n",
       "market                  object\n",
       "max_floor               object\n",
       "name                    object\n",
       "oven                   float64\n",
       "possession_type         object\n",
       "price                   object\n",
       "rent                    object\n",
       "restricted_area        float64\n",
       "rooms_n                 object\n",
       "security               float64\n",
       "separate_kitchen       float64\n",
       "stove                  float64\n",
       "telephone              float64\n",
       "terrace                float64\n",
       "tv                     float64\n",
       "usable_room            float64\n",
       "washing_machine        float64\n",
       "windows                 object\n",
       "year                   float64\n",
       "dtype: object"
      ]
     },
     "execution_count": 315,
     "metadata": {},
     "output_type": "execute_result"
    }
   ],
   "source": [
    "data.dtypes"
   ]
  },
  {
   "cell_type": "code",
   "execution_count": 316,
   "metadata": {},
   "outputs": [
    {
     "data": {
      "text/html": [
       "<div>\n",
       "<style>\n",
       "    .dataframe thead tr:only-child th {\n",
       "        text-align: right;\n",
       "    }\n",
       "\n",
       "    .dataframe thead th {\n",
       "        text-align: left;\n",
       "    }\n",
       "\n",
       "    .dataframe tbody tr th {\n",
       "        vertical-align: top;\n",
       "    }\n",
       "</style>\n",
       "<table border=\"1\" class=\"dataframe\">\n",
       "  <thead>\n",
       "    <tr style=\"text-align: right;\">\n",
       "      <th></th>\n",
       "      <th>ac</th>\n",
       "      <th>alarm</th>\n",
       "      <th>antiburglary_blinds</th>\n",
       "      <th>antiburglary_doors</th>\n",
       "      <th>balcony</th>\n",
       "      <th>cable_tv</th>\n",
       "      <th>cellar</th>\n",
       "      <th>dish_washer</th>\n",
       "      <th>duplex</th>\n",
       "      <th>fridge</th>\n",
       "      <th>furniture</th>\n",
       "      <th>garage</th>\n",
       "      <th>garden</th>\n",
       "      <th>intercom</th>\n",
       "      <th>internet</th>\n",
       "      <th>lift</th>\n",
       "      <th>oven</th>\n",
       "      <th>restricted_area</th>\n",
       "      <th>security</th>\n",
       "      <th>separate_kitchen</th>\n",
       "      <th>stove</th>\n",
       "      <th>telephone</th>\n",
       "      <th>terrace</th>\n",
       "      <th>tv</th>\n",
       "      <th>usable_room</th>\n",
       "      <th>washing_machine</th>\n",
       "      <th>year</th>\n",
       "    </tr>\n",
       "  </thead>\n",
       "  <tbody>\n",
       "    <tr>\n",
       "      <th>count</th>\n",
       "      <td>777.0</td>\n",
       "      <td>929.0</td>\n",
       "      <td>985.0</td>\n",
       "      <td>6844.0</td>\n",
       "      <td>22169.0</td>\n",
       "      <td>15000.0</td>\n",
       "      <td>14586.0</td>\n",
       "      <td>2639.0</td>\n",
       "      <td>1193.0</td>\n",
       "      <td>3725.0</td>\n",
       "      <td>6172.0</td>\n",
       "      <td>13751.0</td>\n",
       "      <td>2881.0</td>\n",
       "      <td>13277.0</td>\n",
       "      <td>16865.0</td>\n",
       "      <td>14293.0</td>\n",
       "      <td>4040.0</td>\n",
       "      <td>5907.0</td>\n",
       "      <td>6316.0</td>\n",
       "      <td>7090.0</td>\n",
       "      <td>4533.0</td>\n",
       "      <td>11171.0</td>\n",
       "      <td>3639.0</td>\n",
       "      <td>998.0</td>\n",
       "      <td>4618.0</td>\n",
       "      <td>2607.0</td>\n",
       "      <td>25280.000000</td>\n",
       "    </tr>\n",
       "    <tr>\n",
       "      <th>mean</th>\n",
       "      <td>1.0</td>\n",
       "      <td>1.0</td>\n",
       "      <td>1.0</td>\n",
       "      <td>1.0</td>\n",
       "      <td>1.0</td>\n",
       "      <td>1.0</td>\n",
       "      <td>1.0</td>\n",
       "      <td>1.0</td>\n",
       "      <td>1.0</td>\n",
       "      <td>1.0</td>\n",
       "      <td>1.0</td>\n",
       "      <td>1.0</td>\n",
       "      <td>1.0</td>\n",
       "      <td>1.0</td>\n",
       "      <td>1.0</td>\n",
       "      <td>1.0</td>\n",
       "      <td>1.0</td>\n",
       "      <td>1.0</td>\n",
       "      <td>1.0</td>\n",
       "      <td>1.0</td>\n",
       "      <td>1.0</td>\n",
       "      <td>1.0</td>\n",
       "      <td>1.0</td>\n",
       "      <td>1.0</td>\n",
       "      <td>1.0</td>\n",
       "      <td>1.0</td>\n",
       "      <td>1997.528244</td>\n",
       "    </tr>\n",
       "    <tr>\n",
       "      <th>std</th>\n",
       "      <td>0.0</td>\n",
       "      <td>0.0</td>\n",
       "      <td>0.0</td>\n",
       "      <td>0.0</td>\n",
       "      <td>0.0</td>\n",
       "      <td>0.0</td>\n",
       "      <td>0.0</td>\n",
       "      <td>0.0</td>\n",
       "      <td>0.0</td>\n",
       "      <td>0.0</td>\n",
       "      <td>0.0</td>\n",
       "      <td>0.0</td>\n",
       "      <td>0.0</td>\n",
       "      <td>0.0</td>\n",
       "      <td>0.0</td>\n",
       "      <td>0.0</td>\n",
       "      <td>0.0</td>\n",
       "      <td>0.0</td>\n",
       "      <td>0.0</td>\n",
       "      <td>0.0</td>\n",
       "      <td>0.0</td>\n",
       "      <td>0.0</td>\n",
       "      <td>0.0</td>\n",
       "      <td>0.0</td>\n",
       "      <td>0.0</td>\n",
       "      <td>0.0</td>\n",
       "      <td>207.656360</td>\n",
       "    </tr>\n",
       "    <tr>\n",
       "      <th>min</th>\n",
       "      <td>1.0</td>\n",
       "      <td>1.0</td>\n",
       "      <td>1.0</td>\n",
       "      <td>1.0</td>\n",
       "      <td>1.0</td>\n",
       "      <td>1.0</td>\n",
       "      <td>1.0</td>\n",
       "      <td>1.0</td>\n",
       "      <td>1.0</td>\n",
       "      <td>1.0</td>\n",
       "      <td>1.0</td>\n",
       "      <td>1.0</td>\n",
       "      <td>1.0</td>\n",
       "      <td>1.0</td>\n",
       "      <td>1.0</td>\n",
       "      <td>1.0</td>\n",
       "      <td>1.0</td>\n",
       "      <td>1.0</td>\n",
       "      <td>1.0</td>\n",
       "      <td>1.0</td>\n",
       "      <td>1.0</td>\n",
       "      <td>1.0</td>\n",
       "      <td>1.0</td>\n",
       "      <td>1.0</td>\n",
       "      <td>1.0</td>\n",
       "      <td>1.0</td>\n",
       "      <td>1.000000</td>\n",
       "    </tr>\n",
       "    <tr>\n",
       "      <th>25%</th>\n",
       "      <td>1.0</td>\n",
       "      <td>1.0</td>\n",
       "      <td>1.0</td>\n",
       "      <td>1.0</td>\n",
       "      <td>1.0</td>\n",
       "      <td>1.0</td>\n",
       "      <td>1.0</td>\n",
       "      <td>1.0</td>\n",
       "      <td>1.0</td>\n",
       "      <td>1.0</td>\n",
       "      <td>1.0</td>\n",
       "      <td>1.0</td>\n",
       "      <td>1.0</td>\n",
       "      <td>1.0</td>\n",
       "      <td>1.0</td>\n",
       "      <td>1.0</td>\n",
       "      <td>1.0</td>\n",
       "      <td>1.0</td>\n",
       "      <td>1.0</td>\n",
       "      <td>1.0</td>\n",
       "      <td>1.0</td>\n",
       "      <td>1.0</td>\n",
       "      <td>1.0</td>\n",
       "      <td>1.0</td>\n",
       "      <td>1.0</td>\n",
       "      <td>1.0</td>\n",
       "      <td>1983.000000</td>\n",
       "    </tr>\n",
       "    <tr>\n",
       "      <th>50%</th>\n",
       "      <td>1.0</td>\n",
       "      <td>1.0</td>\n",
       "      <td>1.0</td>\n",
       "      <td>1.0</td>\n",
       "      <td>1.0</td>\n",
       "      <td>1.0</td>\n",
       "      <td>1.0</td>\n",
       "      <td>1.0</td>\n",
       "      <td>1.0</td>\n",
       "      <td>1.0</td>\n",
       "      <td>1.0</td>\n",
       "      <td>1.0</td>\n",
       "      <td>1.0</td>\n",
       "      <td>1.0</td>\n",
       "      <td>1.0</td>\n",
       "      <td>1.0</td>\n",
       "      <td>1.0</td>\n",
       "      <td>1.0</td>\n",
       "      <td>1.0</td>\n",
       "      <td>1.0</td>\n",
       "      <td>1.0</td>\n",
       "      <td>1.0</td>\n",
       "      <td>1.0</td>\n",
       "      <td>1.0</td>\n",
       "      <td>1.0</td>\n",
       "      <td>1.0</td>\n",
       "      <td>2010.000000</td>\n",
       "    </tr>\n",
       "    <tr>\n",
       "      <th>75%</th>\n",
       "      <td>1.0</td>\n",
       "      <td>1.0</td>\n",
       "      <td>1.0</td>\n",
       "      <td>1.0</td>\n",
       "      <td>1.0</td>\n",
       "      <td>1.0</td>\n",
       "      <td>1.0</td>\n",
       "      <td>1.0</td>\n",
       "      <td>1.0</td>\n",
       "      <td>1.0</td>\n",
       "      <td>1.0</td>\n",
       "      <td>1.0</td>\n",
       "      <td>1.0</td>\n",
       "      <td>1.0</td>\n",
       "      <td>1.0</td>\n",
       "      <td>1.0</td>\n",
       "      <td>1.0</td>\n",
       "      <td>1.0</td>\n",
       "      <td>1.0</td>\n",
       "      <td>1.0</td>\n",
       "      <td>1.0</td>\n",
       "      <td>1.0</td>\n",
       "      <td>1.0</td>\n",
       "      <td>1.0</td>\n",
       "      <td>1.0</td>\n",
       "      <td>1.0</td>\n",
       "      <td>2018.000000</td>\n",
       "    </tr>\n",
       "    <tr>\n",
       "      <th>max</th>\n",
       "      <td>1.0</td>\n",
       "      <td>1.0</td>\n",
       "      <td>1.0</td>\n",
       "      <td>1.0</td>\n",
       "      <td>1.0</td>\n",
       "      <td>1.0</td>\n",
       "      <td>1.0</td>\n",
       "      <td>1.0</td>\n",
       "      <td>1.0</td>\n",
       "      <td>1.0</td>\n",
       "      <td>1.0</td>\n",
       "      <td>1.0</td>\n",
       "      <td>1.0</td>\n",
       "      <td>1.0</td>\n",
       "      <td>1.0</td>\n",
       "      <td>1.0</td>\n",
       "      <td>1.0</td>\n",
       "      <td>1.0</td>\n",
       "      <td>1.0</td>\n",
       "      <td>1.0</td>\n",
       "      <td>1.0</td>\n",
       "      <td>1.0</td>\n",
       "      <td>1.0</td>\n",
       "      <td>1.0</td>\n",
       "      <td>1.0</td>\n",
       "      <td>1.0</td>\n",
       "      <td>20133.000000</td>\n",
       "    </tr>\n",
       "  </tbody>\n",
       "</table>\n",
       "</div>"
      ],
      "text/plain": [
       "          ac  alarm  antiburglary_blinds  antiburglary_doors  balcony  \\\n",
       "count  777.0  929.0                985.0              6844.0  22169.0   \n",
       "mean     1.0    1.0                  1.0                 1.0      1.0   \n",
       "std      0.0    0.0                  0.0                 0.0      0.0   \n",
       "min      1.0    1.0                  1.0                 1.0      1.0   \n",
       "25%      1.0    1.0                  1.0                 1.0      1.0   \n",
       "50%      1.0    1.0                  1.0                 1.0      1.0   \n",
       "75%      1.0    1.0                  1.0                 1.0      1.0   \n",
       "max      1.0    1.0                  1.0                 1.0      1.0   \n",
       "\n",
       "       cable_tv   cellar  dish_washer  duplex  fridge  furniture   garage  \\\n",
       "count   15000.0  14586.0       2639.0  1193.0  3725.0     6172.0  13751.0   \n",
       "mean        1.0      1.0          1.0     1.0     1.0        1.0      1.0   \n",
       "std         0.0      0.0          0.0     0.0     0.0        0.0      0.0   \n",
       "min         1.0      1.0          1.0     1.0     1.0        1.0      1.0   \n",
       "25%         1.0      1.0          1.0     1.0     1.0        1.0      1.0   \n",
       "50%         1.0      1.0          1.0     1.0     1.0        1.0      1.0   \n",
       "75%         1.0      1.0          1.0     1.0     1.0        1.0      1.0   \n",
       "max         1.0      1.0          1.0     1.0     1.0        1.0      1.0   \n",
       "\n",
       "       garden  intercom  internet     lift    oven  restricted_area  security  \\\n",
       "count  2881.0   13277.0   16865.0  14293.0  4040.0           5907.0    6316.0   \n",
       "mean      1.0       1.0       1.0      1.0     1.0              1.0       1.0   \n",
       "std       0.0       0.0       0.0      0.0     0.0              0.0       0.0   \n",
       "min       1.0       1.0       1.0      1.0     1.0              1.0       1.0   \n",
       "25%       1.0       1.0       1.0      1.0     1.0              1.0       1.0   \n",
       "50%       1.0       1.0       1.0      1.0     1.0              1.0       1.0   \n",
       "75%       1.0       1.0       1.0      1.0     1.0              1.0       1.0   \n",
       "max       1.0       1.0       1.0      1.0     1.0              1.0       1.0   \n",
       "\n",
       "       separate_kitchen   stove  telephone  terrace     tv  usable_room  \\\n",
       "count            7090.0  4533.0    11171.0   3639.0  998.0       4618.0   \n",
       "mean                1.0     1.0        1.0      1.0    1.0          1.0   \n",
       "std                 0.0     0.0        0.0      0.0    0.0          0.0   \n",
       "min                 1.0     1.0        1.0      1.0    1.0          1.0   \n",
       "25%                 1.0     1.0        1.0      1.0    1.0          1.0   \n",
       "50%                 1.0     1.0        1.0      1.0    1.0          1.0   \n",
       "75%                 1.0     1.0        1.0      1.0    1.0          1.0   \n",
       "max                 1.0     1.0        1.0      1.0    1.0          1.0   \n",
       "\n",
       "       washing_machine          year  \n",
       "count           2607.0  25280.000000  \n",
       "mean               1.0   1997.528244  \n",
       "std                0.0    207.656360  \n",
       "min                1.0      1.000000  \n",
       "25%                1.0   1983.000000  \n",
       "50%                1.0   2010.000000  \n",
       "75%                1.0   2018.000000  \n",
       "max                1.0  20133.000000  "
      ]
     },
     "execution_count": 316,
     "metadata": {},
     "output_type": "execute_result"
    }
   ],
   "source": [
    "pd.set_option(\"display.max_columns\",50)\n",
    "data.describe()"
   ]
  },
  {
   "cell_type": "markdown",
   "metadata": {},
   "source": [
    "# Data preprocessing"
   ]
  },
  {
   "cell_type": "markdown",
   "metadata": {},
   "source": [
    "#### First of all lets handle numeric variables"
   ]
  },
  {
   "cell_type": "markdown",
   "metadata": {},
   "source": [
    "Converting price variable (which is our y) from str to float.  \n",
    "Removing empty values and rows with price is in foreign currencty to avoid currency exchange (there are only few of them so they are not so valuable)"
   ]
  },
  {
   "cell_type": "code",
   "execution_count": 317,
   "metadata": {},
   "outputs": [],
   "source": [
    "data = data[~data[\"price\"].str.contains(\"GBP|USD|EUR\", na=False, regex=True)]\n",
    "data[\"price\"] = data[\"price\"].str.replace(\",\", \".\").str.replace(\" \", \"\").str.replace(\"zł\", \"\").astype(float)\n",
    "data = data[pd.notnull(data[\"price\"])]"
   ]
  },
  {
   "cell_type": "code",
   "execution_count": 318,
   "metadata": {},
   "outputs": [
    {
     "data": {
      "image/png": "[encoded data removed]",
      "text/plain": [
       "<matplotlib.figure.Figure at 0x23407a8d208>"
      ]
     },
     "metadata": {},
     "output_type": "display_data"
    }
   ],
   "source": [
    "data.boxplot(column=\"price\");"
   ]
  },
  {
   "cell_type": "markdown",
   "metadata": {},
   "source": [
    "Price variable cleary has many outliers - let's drop them from our data. We are defining outliers with Interquartile Range Rule."
   ]
  },
  {
   "cell_type": "markdown",
   "metadata": {},
   "source": [
    "Creating function which will help us with calculating and droping outliers from dataset."
   ]
  },
  {
   "cell_type": "code",
   "execution_count": 319,
   "metadata": {},
   "outputs": [],
   "source": [
    "def delete_outliers(column):\n",
    "    q1, q3 = data[column].quantile([0.25,0.75])\n",
    "    iqr = q3 - q1\n",
    "    min_out = q1 - (iqr * 1.5)\n",
    "    max_out = q3 + (iqr * 1.5)\n",
    "    data_wo_outliers = data.query(column +' < '+ str(max_out) +' and '+ column + ' > ' + str(min_out) )\n",
    "    return data_wo_outliers"
   ]
  },
  {
   "cell_type": "code",
   "execution_count": 320,
   "metadata": {},
   "outputs": [],
   "source": [
    "data = delete_outliers(\"price\")"
   ]
  },
  {
   "cell_type": "markdown",
   "metadata": {},
   "source": [
    "Boxplot after dropping outliers looks much better."
   ]
  },
  {
   "cell_type": "code",
   "execution_count": 321,
   "metadata": {},
   "outputs": [
    {
     "data": {
      "image/png": "[encoded data removed]",
      "text/plain": [
       "<matplotlib.figure.Figure at 0x2340ad56710>"
      ]
     },
     "metadata": {},
     "output_type": "display_data"
    }
   ],
   "source": [
    "data.boxplot(column=\"price\");"
   ]
  },
  {
   "cell_type": "markdown",
   "metadata": {},
   "source": [
    "Converting m2 variable (area of apartment) from str to float."
   ]
  },
  {
   "cell_type": "code",
   "execution_count": 322,
   "metadata": {},
   "outputs": [],
   "source": [
    "data[\"m2\"] = data[\"m2\"].str.replace(\" m²\",\"\").str.replace(\",\", \".\").str.replace(\" \", \"\").astype(float)"
   ]
  },
  {
   "cell_type": "markdown",
   "metadata": {},
   "source": [
    "Boxplot before dropping outliers."
   ]
  },
  {
   "cell_type": "code",
   "execution_count": 323,
   "metadata": {},
   "outputs": [
    {
     "data": {
      "image/png": "[encoded data removed]",
      "text/plain": [
       "<matplotlib.figure.Figure at 0x234080144a8>"
      ]
     },
     "metadata": {},
     "output_type": "display_data"
    }
   ],
   "source": [
    "data.boxplot(column=\"m2\");"
   ]
  },
  {
   "cell_type": "code",
   "execution_count": 324,
   "metadata": {},
   "outputs": [],
   "source": [
    "data = delete_outliers(\"m2\")"
   ]
  },
  {
   "cell_type": "markdown",
   "metadata": {},
   "source": [
    "And boxplot after dropping outliers - much better."
   ]
  },
  {
   "cell_type": "code",
   "execution_count": 325,
   "metadata": {},
   "outputs": [
    {
     "data": {
      "image/png": "[encoded data removed]",
      "text/plain": [
       "<matplotlib.figure.Figure at 0x23407dea198>"
      ]
     },
     "metadata": {},
     "output_type": "display_data"
    }
   ],
   "source": [
    "data.boxplot(column=\"m2\");"
   ]
  },
  {
   "cell_type": "markdown",
   "metadata": {},
   "source": [
    "Density plot of m2 variable:"
   ]
  },
  {
   "cell_type": "code",
   "execution_count": 326,
   "metadata": {},
   "outputs": [
    {
     "data": {
      "image/png": "[encoded data removed]",
      "text/plain": [
       "<matplotlib.figure.Figure at 0x234099a9be0>"
      ]
     },
     "metadata": {},
     "output_type": "display_data"
    }
   ],
   "source": [
    "plt.xlim(0, max(data[\"m2\"])*1.05)\n",
    "data[\"m2\"].plot.density();"
   ]
  },
  {
   "cell_type": "markdown",
   "metadata": {},
   "source": [
    "Converting variable year (year in which apartment was build) to be relative to current year"
   ]
  },
  {
   "cell_type": "code",
   "execution_count": 327,
   "metadata": {},
   "outputs": [],
   "source": [
    "from datetime import datetime\n",
    "\n",
    "now = datetime.now()\n",
    "data[\"year\"] = now.year - data[\"year\"]"
   ]
  },
  {
   "cell_type": "markdown",
   "metadata": {},
   "source": [
    "Converting variable \"available_from\" just like \"year\" variable."
   ]
  },
  {
   "cell_type": "code",
   "execution_count": 328,
   "metadata": {},
   "outputs": [],
   "source": [
    "months = {\" Stycznia \":\".01.\",\n",
    "          \" Lutego \":\".02.\",\n",
    "          \" Marca \":\".03.\",\n",
    "          \" Kwietnia \":\".04.\",\n",
    "          \" Maja \":\".05.\",\n",
    "          \" Czerwca \":\".06.\",\n",
    "          \" Lipca \":\".07.\",\n",
    "          \" Sierpnia \":\".08.\",\n",
    "          \" Września \":\".09.\",\n",
    "          \" Października \":\".10.\",\n",
    "          \" Listopada \":\".11.\",\n",
    "          \" Grudnia \":\".12.\"\n",
    "         }\n",
    "\n",
    "for name, value in months.items():\n",
    "     data[\"available_from\"] = data[\"available_from\"].str.replace(name, value)\n",
    "\n",
    "data[\"available_from\"] = data[\"available_from\"].str.replace(\" \",\"\")        \n",
    "data[\"available_from\"] = data[\"available_from\"].fillna(\"\") #to replace empty floats with strings"
   ]
  },
  {
   "cell_type": "markdown",
   "metadata": {},
   "source": [
    "Function which calculates difference between days:"
   ]
  },
  {
   "cell_type": "code",
   "execution_count": 329,
   "metadata": {},
   "outputs": [],
   "source": [
    "def diff_in_days(i, date_format):\n",
    "    if i is not None and i != \"\":\n",
    "        delta = datetime.strptime(str(i), date_format) - datetime.today()\n",
    "        return (delta).days\n",
    "    else:\n",
    "        return None"
   ]
  },
  {
   "cell_type": "code",
   "execution_count": 330,
   "metadata": {},
   "outputs": [],
   "source": [
    "date_format = \"%d.%m.%Y\"\n",
    "\n",
    "data[\"available_from\"] = [diff_in_days(i, date_format) for i in data[\"available_from\"]]"
   ]
  },
  {
   "cell_type": "markdown",
   "metadata": {},
   "source": [
    "Converting rent variabe (rent paid monthly for apartment) from str to float."
   ]
  },
  {
   "cell_type": "code",
   "execution_count": 331,
   "metadata": {},
   "outputs": [],
   "source": [
    "data[\"rent\"] = data[\"rent\"].str.replace(\" zł\",\"\").str.replace(\",\", \".\").str.replace(\" \", \"\").astype(float)"
   ]
  },
  {
   "cell_type": "markdown",
   "metadata": {},
   "source": [
    "Converting max_floor variable (number of floors in the buidling) from str to int."
   ]
  },
  {
   "cell_type": "code",
   "execution_count": 332,
   "metadata": {},
   "outputs": [],
   "source": [
    "data[\"max_floor\"] = data[\"max_floor\"].str.replace(\"\\(z \",\"\").str.replace(\"\\)\", \"\").astype(float)"
   ]
  },
  {
   "cell_type": "markdown",
   "metadata": {},
   "source": [
    "Converting max_floor variable (number of floors in the buidling) from str to int."
   ]
  },
  {
   "cell_type": "code",
   "execution_count": 333,
   "metadata": {},
   "outputs": [],
   "source": [
    "data.loc[data[\"floor\"]==\"parter\", \"floor\"] = 0\n",
    "data.loc[data[\"floor\"]==\"> 10\", \"floor\"] = 11\n",
    "data.loc[data[\"floor\"]==\"suterena\", \"floor\"] = -1\n",
    "data.loc[data[\"floor\"]==\"poddasze\", \"floor\"] = data[\"max_floor\"] #assuming that value provided in max_floor variable is real\n",
    "data[\"floor\"] = data[\"floor\"].astype(float)"
   ]
  },
  {
   "cell_type": "markdown",
   "metadata": {},
   "source": [
    "Converting rooms_n variable (number of rooms in apartment) from str to int."
   ]
  },
  {
   "cell_type": "code",
   "execution_count": 334,
   "metadata": {},
   "outputs": [],
   "source": [
    "data.loc[data[\"rooms_n\"]==\"więcej niż 10\", \"rooms_n\"] = 11\n",
    "data[\"rooms_n\"] = data[\"rooms_n\"].astype(float)"
   ]
  },
  {
   "cell_type": "markdown",
   "metadata": {},
   "source": [
    "#### Checking number of degrees in categorical variables and transforming values into separate columns"
   ]
  },
  {
   "cell_type": "markdown",
   "metadata": {},
   "source": [
    "Variables building_material and building_type have values with insignificiant number of values in most of the categories.\n",
    "Im grouping them into one category."
   ]
  },
  {
   "cell_type": "code",
   "execution_count": 335,
   "metadata": {},
   "outputs": [
    {
     "data": {
      "image/png": "[encoded data removed]",
      "text/plain": [
       "<matplotlib.figure.Figure at 0x2340adc6b38>"
      ]
     },
     "metadata": {},
     "output_type": "display_data"
    }
   ],
   "source": [
    "plt.rcParams[\"figure.figsize\"] = [16.0, 4.0]\n",
    "data[\"building_material\"].hist();"
   ]
  },
  {
   "cell_type": "code",
   "execution_count": 336,
   "metadata": {},
   "outputs": [],
   "source": [
    "data.loc[~data[\"building_material\"].str.contains(\"cegła|wielka płyta|pustak\", na=False, regex=True), 'building_material'] = 'inne'"
   ]
  },
  {
   "cell_type": "code",
   "execution_count": 337,
   "metadata": {},
   "outputs": [
    {
     "data": {
      "image/png": "[encoded data removed]",
      "text/plain": [
       "<matplotlib.figure.Figure at 0x234086c23c8>"
      ]
     },
     "metadata": {},
     "output_type": "display_data"
    }
   ],
   "source": [
    "data[\"building_material\"].hist();"
   ]
  },
  {
   "cell_type": "code",
   "execution_count": 338,
   "metadata": {},
   "outputs": [
    {
     "data": {
      "image/png": "[encoded data removed]",
      "text/plain": [
       "<matplotlib.figure.Figure at 0x23407deaf60>"
      ]
     },
     "metadata": {},
     "output_type": "display_data"
    }
   ],
   "source": [
    "data[\"building_status\"].hist();"
   ]
  },
  {
   "cell_type": "code",
   "execution_count": 339,
   "metadata": {},
   "outputs": [
    {
     "data": {
      "image/png": "[encoded data removed]",
      "text/plain": [
       "<matplotlib.figure.Figure at 0x2340a4b6da0>"
      ]
     },
     "metadata": {},
     "output_type": "display_data"
    }
   ],
   "source": [
    "data[\"building_type\"].hist();"
   ]
  },
  {
   "cell_type": "code",
   "execution_count": 340,
   "metadata": {},
   "outputs": [],
   "source": [
    "data.loc[~data[\"building_type\"].str.contains(\"blok|apartamentowiec|kamienica\", na=False, regex=True), 'building_type'] = 'inne'"
   ]
  },
  {
   "cell_type": "code",
   "execution_count": 341,
   "metadata": {},
   "outputs": [
    {
     "data": {
      "image/png": "[encoded data removed]",
      "text/plain": [
       "<matplotlib.figure.Figure at 0x234094223c8>"
      ]
     },
     "metadata": {},
     "output_type": "display_data"
    }
   ],
   "source": [
    "data[\"building_type\"].hist();"
   ]
  },
  {
   "cell_type": "code",
   "execution_count": 342,
   "metadata": {},
   "outputs": [
    {
     "data": {
      "image/png": "[encoded data removed]",
      "text/plain": [
       "<matplotlib.figure.Figure at 0x234093b3c88>"
      ]
     },
     "metadata": {},
     "output_type": "display_data"
    }
   ],
   "source": [
    "data[\"possession_type\"].hist();"
   ]
  },
  {
   "cell_type": "code",
   "execution_count": 343,
   "metadata": {},
   "outputs": [
    {
     "data": {
      "image/png": "[encoded data removed]",
      "text/plain": [
       "<matplotlib.figure.Figure at 0x234198d5390>"
      ]
     },
     "metadata": {},
     "output_type": "display_data"
    }
   ],
   "source": [
    "data[\"heating\"].hist();"
   ]
  },
  {
   "cell_type": "code",
   "execution_count": 344,
   "metadata": {},
   "outputs": [],
   "source": [
    "data.loc[~data[\"heating\"].str.contains(\"miejskie|gazowe\", na=False, regex=True), 'heating'] = 'inne'"
   ]
  },
  {
   "cell_type": "code",
   "execution_count": 345,
   "metadata": {},
   "outputs": [
    {
     "data": {
      "image/png": "[encoded data removed]",
      "text/plain": [
       "<matplotlib.figure.Figure at 0x234097f3b00>"
      ]
     },
     "metadata": {},
     "output_type": "display_data"
    }
   ],
   "source": [
    "data[\"heating\"].hist();"
   ]
  },
  {
   "cell_type": "code",
   "execution_count": 346,
   "metadata": {},
   "outputs": [
    {
     "data": {
      "image/png": "[encoded data removed]",
      "text/plain": [
       "<matplotlib.figure.Figure at 0x234098692b0>"
      ]
     },
     "metadata": {},
     "output_type": "display_data"
    }
   ],
   "source": [
    "data[\"market\"].hist();"
   ]
  },
  {
   "cell_type": "code",
   "execution_count": 347,
   "metadata": {},
   "outputs": [
    {
     "data": {
      "image/png": "[encoded data removed]",
      "text/plain": [
       "<matplotlib.figure.Figure at 0x234078116a0>"
      ]
     },
     "metadata": {},
     "output_type": "display_data"
    }
   ],
   "source": [
    "data[\"windows\"].hist();"
   ]
  },
  {
   "cell_type": "markdown",
   "metadata": {},
   "source": [
    "Removing spaces from values to avoid column names with spaces after applying get_dummies function."
   ]
  },
  {
   "cell_type": "code",
   "execution_count": 348,
   "metadata": {},
   "outputs": [],
   "source": [
    "data[\"building_material\"] = data[\"building_material\"].str.replace(\" \",\"\")\n",
    "data[\"building_status\"] = data[\"building_status\"].str.replace(\" \",\"\")\n",
    "data[\"building_type\"] = data[\"building_type\"].str.replace(\" \",\"\")\n",
    "data[\"possession_type\"] = data[\"possession_type\"].str.replace(\" \",\"\")\n",
    "data[\"heating\"] = data[\"heating\"].str.replace(\" \",\"\")\n",
    "data[\"market\"] = data[\"market\"].str.replace(\" \",\"\")\n",
    "data[\"windows\"] = data[\"windows\"].str.replace(\" \",\"\")"
   ]
  },
  {
   "cell_type": "markdown",
   "metadata": {},
   "source": [
    "Address variable - spliting into 3 parts (city, district and street)"
   ]
  },
  {
   "cell_type": "code",
   "execution_count": 349,
   "metadata": {},
   "outputs": [],
   "source": [
    "data[\"address\"] = data[\"address\"].str.replace(\"Mieszkanie na sprzedaż,\",\"\")\n",
    "address_df = data[\"address\"].str.split(\",\", expand=True)\n",
    "address_df.columns = [\"city\", \"district\", \"street\"]\n",
    "data = data.drop([\"address\"], axis=1)\n",
    "data = pd.concat([data, address_df], axis=1)"
   ]
  },
  {
   "cell_type": "markdown",
   "metadata": {},
   "source": [
    "Dropping variables which are insignificant for our model"
   ]
  },
  {
   "cell_type": "code",
   "execution_count": 350,
   "metadata": {},
   "outputs": [],
   "source": [
    "data = data.drop([\"description\",\"name\"], axis=1)"
   ]
  },
  {
   "cell_type": "markdown",
   "metadata": {},
   "source": [
    "Imputing 0 in every bit column. Otodom website doesn't show 0 values for those columns (it's either 1 or NULL), so right now we are assuming that users provided true data :)"
   ]
  },
  {
   "cell_type": "code",
   "execution_count": 351,
   "metadata": {},
   "outputs": [],
   "source": [
    "bit_columns = list(data.max().loc[data.max()==1].index)\n",
    "data[bit_columns] = data[bit_columns].fillna(0).astype(int)"
   ]
  },
  {
   "cell_type": "markdown",
   "metadata": {},
   "source": [
    "# Training models"
   ]
  },
  {
   "cell_type": "markdown",
   "metadata": {},
   "source": [
    "First of all we try to train our models on data without addresses and see what happens"
   ]
  },
  {
   "cell_type": "code",
   "execution_count": 352,
   "metadata": {},
   "outputs": [],
   "source": [
    "data_wo_address = data.drop([\"city\",\"district\",\"street\"], axis=1)"
   ]
  },
  {
   "cell_type": "markdown",
   "metadata": {},
   "source": [
    "Converting categorical variables into _n_ new variables base on their values"
   ]
  },
  {
   "cell_type": "code",
   "execution_count": 353,
   "metadata": {},
   "outputs": [],
   "source": [
    "data_wo_address = pd.get_dummies(data_wo_address)"
   ]
  },
  {
   "cell_type": "code",
   "execution_count": 354,
   "metadata": {},
   "outputs": [],
   "source": [
    "X = data_wo_address.drop([\"price\"], axis=1)\n",
    "y = data_wo_address[\"price\"]"
   ]
  },
  {
   "cell_type": "code",
   "execution_count": 355,
   "metadata": {},
   "outputs": [],
   "source": [
    "X_train, X_test, y_train, y_test = train_test_split(X,y,test_size=0.33)"
   ]
  },
  {
   "cell_type": "markdown",
   "metadata": {},
   "source": [
    "Create models with deafult parameters and measure the outcomes"
   ]
  },
  {
   "cell_type": "code",
   "execution_count": 356,
   "metadata": {},
   "outputs": [],
   "source": [
    "base = [\n",
    "    (\"imputer\", Imputer(strategy=\"mean\", axis=0)),\n",
    "    (\"scale\", MinMaxScaler())\n",
    "]\n",
    "\n",
    "models = [\n",
    "    (\"linear\", LinearRegression()),\n",
    "    (\"forest\", RandomForestRegressor()),\n",
    "    (\"svr\", SVR()),\n",
    "    (\"xgb\", XGBRegressor())\n",
    "]"
   ]
  },
  {
   "cell_type": "code",
   "execution_count": 357,
   "metadata": {},
   "outputs": [],
   "source": [
    "best_models = []\n",
    "for i, model in enumerate(models):\n",
    "    \n",
    "    steps = base.copy()\n",
    "    steps.append(model)\n",
    "    pipe = Pipeline(steps)\n",
    "\n",
    "    pipe.fit(X_train,y_train)\n",
    "    best_models.append((models[i][0], pipe))"
   ]
  },
  {
   "cell_type": "code",
   "execution_count": 358,
   "metadata": {},
   "outputs": [
    {
     "name": "stdout",
     "output_type": "stream",
     "text": [
      "linear \n",
      " R^2: -0.10167840214169166, MSE: 21486370015.360134\n",
      "forest \n",
      " R^2: 0.588615580215045, MSE: 8023355858.542955\n",
      "svr \n",
      " R^2: -0.030522245446336305, MSE: 20098589780.533752\n",
      "xgb \n",
      " R^2: 0.563103367994402, MSE: 8520928317.635809\n"
     ]
    }
   ],
   "source": [
    "for model in best_models:\n",
    "    print(\"{} \\n R^2: {}, MSE: {}\".format(model[0],\n",
    "                                        r2_score(y_test,model[1].predict(X_test)),\n",
    "                                        mean_squared_error(y_test,model[1].predict(X_test))))"
   ]
  },
  {
   "cell_type": "markdown",
   "metadata": {},
   "source": [
    "## Lets try to boost results of our models"
   ]
  },
  {
   "cell_type": "markdown",
   "metadata": {},
   "source": [
    "Re-add city and district variables to our analysis and use PCA on converted dummies to reduce dimentionality."
   ]
  },
  {
   "cell_type": "code",
   "execution_count": 359,
   "metadata": {},
   "outputs": [],
   "source": [
    "data_pca = data"
   ]
  },
  {
   "cell_type": "markdown",
   "metadata": {},
   "source": [
    "Join city and district into one variable."
   ]
  },
  {
   "cell_type": "code",
   "execution_count": 360,
   "metadata": {},
   "outputs": [],
   "source": [
    "data_pca[\"district\"] = data_pca[\"city\"] + \"-\" + data_pca[\"district\"]"
   ]
  },
  {
   "cell_type": "code",
   "execution_count": 361,
   "metadata": {},
   "outputs": [],
   "source": [
    "data_pca.loc[data_pca[\"district\"].isnull(), \"district\"] = data_pca[\"city\"]"
   ]
  },
  {
   "cell_type": "code",
   "execution_count": 362,
   "metadata": {},
   "outputs": [],
   "source": [
    "data_pca = data_pca.drop([\"street\",\"city\"], axis=1)"
   ]
  },
  {
   "cell_type": "code",
   "execution_count": 363,
   "metadata": {},
   "outputs": [],
   "source": [
    "data_pca = pd.get_dummies(data_pca)"
   ]
  },
  {
   "cell_type": "code",
   "execution_count": 364,
   "metadata": {},
   "outputs": [],
   "source": [
    "X = data_pca.drop([\"price\"], axis=1)\n",
    "y = data_pca[\"price\"]"
   ]
  },
  {
   "cell_type": "code",
   "execution_count": 365,
   "metadata": {},
   "outputs": [],
   "source": [
    "X_train, X_test, y_train, y_test = train_test_split(X,y,test_size=0.33)"
   ]
  },
  {
   "cell_type": "markdown",
   "metadata": {},
   "source": [
    "GridSearchCV doesn't allow NaNs so we have to imput missing data before grid search"
   ]
  },
  {
   "cell_type": "code",
   "execution_count": 366,
   "metadata": {},
   "outputs": [],
   "source": [
    "imputer = Imputer(strategy=\"mean\", axis=0)\n",
    "X_train_inputed = imputer.fit_transform(X_train)\n",
    "X_train = pd.DataFrame(X_train_inputed, index = X_train.index, columns = X_train.columns)\n",
    "\n",
    "X_test_inputed = imputer.transform(X_test)\n",
    "X_test = pd.DataFrame(X_test_inputed, index = X_test.index, columns = X_test.columns)"
   ]
  },
  {
   "cell_type": "code",
   "execution_count": 367,
   "metadata": {},
   "outputs": [],
   "source": [
    "scaler = MinMaxScaler()\n",
    "X_train_scaled = scaler.fit_transform(X_train)\n",
    "X_train = pd.DataFrame(X_train_scaled, index = X_train.index, columns = X_train.columns)\n",
    "\n",
    "X_test_scaled  = scaler.transform(X_test)\n",
    "X_test = pd.DataFrame(X_test_scaled, index = X_test.index, columns = X_test.columns)"
   ]
  },
  {
   "cell_type": "code",
   "execution_count": 368,
   "metadata": {},
   "outputs": [],
   "source": [
    "base = [(\"pca\", PCA())]\n",
    "\n",
    "models = [\n",
    "    (\"linear\",LinearRegression()),\n",
    "    (\"forest\",RandomForestRegressor()),\n",
    "    #(\"svr\",SVR()), - commented out because SVR with default params gave really bad results \n",
    "    (\"xgb\",XGBRegressor())\n",
    "]\n",
    "\n",
    "param_grids = [\n",
    "    {\"pca__n_components\":[10,50,100]},\n",
    "    {\"pca__n_components\":[10,50,100]},\n",
    "    {\"pca__n_components\":[10,50,100]}\n",
    "    #{\"pca__n_components\":[10,50,100]}\n",
    "]"
   ]
  },
  {
   "cell_type": "code",
   "execution_count": 370,
   "metadata": {},
   "outputs": [
    {
     "name": "stdout",
     "output_type": "stream",
     "text": [
      "Fitting 3 folds for each of 3 candidates, totalling 9 fits\n",
      "[CV] pca__n_components=10 ............................................\n",
      "[CV] .. pca__n_components=10, score=0.16766856627967786, total=   2.0s\n",
      "[Parallel(n_jobs=1)]: Done   1 out of   1 | elapsed:    2.4s remaining:    0.0s\n",
      "[CV] pca__n_components=10 ............................................\n",
      "[CV] .... pca__n_components=10, score=0.163348630873409, total=   2.0s\n",
      "[Parallel(n_jobs=1)]: Done   2 out of   2 | elapsed:    4.9s remaining:    0.0s\n",
      "[CV] pca__n_components=10 ............................................\n",
      "[CV] .. pca__n_components=10, score=0.16323969779431668, total=   2.1s\n",
      "[Parallel(n_jobs=1)]: Done   3 out of   3 | elapsed:    7.5s remaining:    0.0s\n",
      "[CV] pca__n_components=50 ............................................\n",
      "[CV] .. pca__n_components=50, score=0.44747464140883697, total=   2.8s\n",
      "[Parallel(n_jobs=1)]: Done   4 out of   4 | elapsed:   10.7s remaining:    0.0s\n",
      "[CV] pca__n_components=50 ............................................\n",
      "[CV] ... pca__n_components=50, score=0.4647220382029671, total=   2.7s\n",
      "[Parallel(n_jobs=1)]: Done   5 out of   5 | elapsed:   14.0s remaining:    0.0s\n",
      "[CV] pca__n_components=50 ............................................\n",
      "[CV] ... pca__n_components=50, score=0.4544580249181239, total=   2.8s\n",
      "[Parallel(n_jobs=1)]: Done   6 out of   6 | elapsed:   17.3s remaining:    0.0s\n",
      "[CV] pca__n_components=100 ...........................................\n",
      "[CV] .. pca__n_components=100, score=0.5432461046264259, total=   3.8s\n",
      "[Parallel(n_jobs=1)]: Done   7 out of   7 | elapsed:   21.6s remaining:    0.0s\n",
      "[CV] pca__n_components=100 ...........................................\n",
      "[CV] .. pca__n_components=100, score=0.5541802011707555, total=   3.7s\n",
      "[Parallel(n_jobs=1)]: Done   8 out of   8 | elapsed:   25.9s remaining:    0.0s\n",
      "[CV] pca__n_components=100 ...........................................\n",
      "[CV] .. pca__n_components=100, score=0.5581738848609932, total=   3.7s\n",
      "[Parallel(n_jobs=1)]: Done   9 out of   9 | elapsed:   30.0s remaining:    0.0s\n",
      "[Parallel(n_jobs=1)]: Done   9 out of   9 | elapsed:   30.0s finished\n",
      "linear {'pca__n_components': 100}\n",
      "Fitting 3 folds for each of 3 candidates, totalling 9 fits\n",
      "[CV] pca__n_components=10 ............................................\n",
      "[CV] .. pca__n_components=10, score=0.26115172743621584, total=   3.4s\n",
      "[Parallel(n_jobs=1)]: Done   1 out of   1 | elapsed:    3.8s remaining:    0.0s\n",
      "[CV] pca__n_components=10 ............................................\n",
      "[CV] ... pca__n_components=10, score=0.2593413023537001, total=   3.2s\n",
      "[Parallel(n_jobs=1)]: Done   2 out of   2 | elapsed:    7.5s remaining:    0.0s\n",
      "[CV] pca__n_components=10 ............................................\n",
      "[CV] .. pca__n_components=10, score=0.26860638898286593, total=   3.3s\n",
      "[Parallel(n_jobs=1)]: Done   3 out of   3 | elapsed:   11.3s remaining:    0.0s\n",
      "[CV] pca__n_components=50 ............................................\n",
      "[CV] ... pca__n_components=50, score=0.4686632275363477, total=   9.0s\n",
      "[Parallel(n_jobs=1)]: Done   4 out of   4 | elapsed:   20.8s remaining:    0.0s\n",
      "[CV] pca__n_components=50 ............................................\n",
      "[CV] .. pca__n_components=50, score=0.47959923099451973, total=   8.3s\n",
      "[Parallel(n_jobs=1)]: Done   5 out of   5 | elapsed:   29.7s remaining:    0.0s\n",
      "[CV] pca__n_components=50 ............................................\n",
      "[CV] ... pca__n_components=50, score=0.4638271240136135, total=   8.5s\n",
      "[Parallel(n_jobs=1)]: Done   6 out of   6 | elapsed:   38.7s remaining:    0.0s\n",
      "[CV] pca__n_components=100 ...........................................\n",
      "[CV] .. pca__n_components=100, score=0.5117345040741289, total=  15.0s\n",
      "[Parallel(n_jobs=1)]: Done   7 out of   7 | elapsed:   54.3s remaining:    0.0s\n",
      "[CV] pca__n_components=100 ...........................................\n",
      "[CV] ... pca__n_components=100, score=0.533834063540229, total=  15.4s\n",
      "[Parallel(n_jobs=1)]: Done   8 out of   8 | elapsed:  1.2min remaining:    0.0s\n",
      "[CV] pca__n_components=100 ...........................................\n",
      "[CV] .. pca__n_components=100, score=0.5257370589539512, total=  15.1s\n",
      "[Parallel(n_jobs=1)]: Done   9 out of   9 | elapsed:  1.4min remaining:    0.0s\n",
      "[Parallel(n_jobs=1)]: Done   9 out of   9 | elapsed:  1.4min finished\n",
      "forest {'pca__n_components': 100}\n",
      "Fitting 3 folds for each of 3 candidates, totalling 9 fits\n",
      "[CV] pca__n_components=10 ............................................\n",
      "[CV] .. pca__n_components=10, score=0.24038478498899407, total=   2.3s\n",
      "[Parallel(n_jobs=1)]: Done   1 out of   1 | elapsed:    2.7s remaining:    0.0s\n",
      "[CV] pca__n_components=10 ............................................\n",
      "[CV] .. pca__n_components=10, score=0.23467295414982858, total=   2.3s\n",
      "[Parallel(n_jobs=1)]: Done   2 out of   2 | elapsed:    5.4s remaining:    0.0s\n",
      "[CV] pca__n_components=10 ............................................\n",
      "[CV] .. pca__n_components=10, score=0.23880751865270722, total=   2.3s\n",
      "[Parallel(n_jobs=1)]: Done   3 out of   3 | elapsed:    8.2s remaining:    0.0s\n",
      "[CV] pca__n_components=50 ............................................\n",
      "[CV] ... pca__n_components=50, score=0.4973522089849265, total=   3.6s\n",
      "[Parallel(n_jobs=1)]: Done   4 out of   4 | elapsed:   12.2s remaining:    0.0s\n",
      "[CV] pca__n_components=50 ............................................\n",
      "[CV] ... pca__n_components=50, score=0.5079205195394736, total=   3.5s\n",
      "[Parallel(n_jobs=1)]: Done   5 out of   5 | elapsed:   16.3s remaining:    0.0s\n",
      "[CV] pca__n_components=50 ............................................\n",
      "[CV] .. pca__n_components=50, score=0.49158203991454963, total=   3.6s\n",
      "[Parallel(n_jobs=1)]: Done   6 out of   6 | elapsed:   20.4s remaining:    0.0s\n",
      "[CV] pca__n_components=100 ...........................................\n",
      "[CV] .. pca__n_components=100, score=0.5645558367679278, total=   5.9s\n",
      "[Parallel(n_jobs=1)]: Done   7 out of   7 | elapsed:   26.9s remaining:    0.0s\n",
      "[CV] pca__n_components=100 ...........................................\n",
      "[CV] .. pca__n_components=100, score=0.5672529982157839, total=   5.3s\n",
      "[Parallel(n_jobs=1)]: Done   8 out of   8 | elapsed:   32.7s remaining:    0.0s\n",
      "[CV] pca__n_components=100 ...........................................\n",
      "[CV] .. pca__n_components=100, score=0.5664885213161216, total=   5.6s\n",
      "[Parallel(n_jobs=1)]: Done   9 out of   9 | elapsed:   38.9s remaining:    0.0s\n",
      "[Parallel(n_jobs=1)]: Done   9 out of   9 | elapsed:   38.9s finished\n",
      "xgb {'pca__n_components': 100}\n"
     ]
    }
   ],
   "source": [
    "best_models = []\n",
    "for i, model in enumerate(models):\n",
    "    \n",
    "    steps = base.copy()\n",
    "    steps.append(model)\n",
    "    pipe = Pipeline(steps)\n",
    "\n",
    "    gs = GridSearchCV(estimator=pipe, \n",
    "                      param_grid=param_grids[i], \n",
    "                      verbose=100)\n",
    "    gs.fit(X_train,y_train)\n",
    "    print(models[i][0], gs.best_params_)\n",
    "    best_models.append((models[i][0], gs.best_params_, gs.best_estimator_))"
   ]
  },
  {
   "cell_type": "code",
   "execution_count": 371,
   "metadata": {},
   "outputs": [
    {
     "name": "stdout",
     "output_type": "stream",
     "text": [
      "linear with params {'pca__n_components': 100}\n",
      " R^2: 0.5672641202254541, MSE: 8324593646.871521\n",
      "forest with params {'pca__n_components': 100}\n",
      " R^2: 0.5628881557868575, MSE: 8408774616.065607\n",
      "xgb with params {'pca__n_components': 100}\n",
      " R^2: 0.5806366207810151, MSE: 8067345199.560875\n"
     ]
    }
   ],
   "source": [
    "for model in best_models:\n",
    "    print(\"{} with params {}\\n R^2: {}, MSE: {}\".format(model[0], \n",
    "                                          model[1],\n",
    "                                          r2_score(y_test,model[2].predict(X_test)),\n",
    "                                          mean_squared_error(y_test,model[2].predict(X_test))))"
   ]
  },
  {
   "cell_type": "markdown",
   "metadata": {},
   "source": [
    "#### PCA method didn't give expected (positive) results, so lets try converting address(city) just like other categorical variables before and use gridsearch to search for best parameters of models"
   ]
  },
  {
   "cell_type": "code",
   "execution_count": 372,
   "metadata": {},
   "outputs": [
    {
     "data": {
      "text/html": [
       "<div>\n",
       "<style>\n",
       "    .dataframe thead tr:only-child th {\n",
       "        text-align: right;\n",
       "    }\n",
       "\n",
       "    .dataframe thead th {\n",
       "        text-align: left;\n",
       "    }\n",
       "\n",
       "    .dataframe tbody tr th {\n",
       "        vertical-align: top;\n",
       "    }\n",
       "</style>\n",
       "<table border=\"1\" class=\"dataframe\">\n",
       "  <thead>\n",
       "    <tr style=\"text-align: right;\">\n",
       "      <th></th>\n",
       "      <th>count</th>\n",
       "      <th>mean</th>\n",
       "    </tr>\n",
       "    <tr>\n",
       "      <th>city</th>\n",
       "      <th></th>\n",
       "      <th></th>\n",
       "    </tr>\n",
       "  </thead>\n",
       "  <tbody>\n",
       "    <tr>\n",
       "      <th>Warszawa</th>\n",
       "      <td>5408</td>\n",
       "      <td>442165.550492</td>\n",
       "    </tr>\n",
       "    <tr>\n",
       "      <th>Wrocław</th>\n",
       "      <td>3959</td>\n",
       "      <td>352018.770417</td>\n",
       "    </tr>\n",
       "    <tr>\n",
       "      <th>Kraków</th>\n",
       "      <td>2546</td>\n",
       "      <td>376486.815361</td>\n",
       "    </tr>\n",
       "    <tr>\n",
       "      <th>Poznań</th>\n",
       "      <td>1312</td>\n",
       "      <td>331094.085297</td>\n",
       "    </tr>\n",
       "    <tr>\n",
       "      <th>Gdańsk</th>\n",
       "      <td>1207</td>\n",
       "      <td>400990.479867</td>\n",
       "    </tr>\n",
       "    <tr>\n",
       "      <th>Bydgoszcz</th>\n",
       "      <td>1081</td>\n",
       "      <td>261013.040259</td>\n",
       "    </tr>\n",
       "    <tr>\n",
       "      <th>Katowice</th>\n",
       "      <td>931</td>\n",
       "      <td>256840.146380</td>\n",
       "    </tr>\n",
       "    <tr>\n",
       "      <th>Łódź</th>\n",
       "      <td>924</td>\n",
       "      <td>250064.668387</td>\n",
       "    </tr>\n",
       "    <tr>\n",
       "      <th>Toruń</th>\n",
       "      <td>659</td>\n",
       "      <td>280550.301760</td>\n",
       "    </tr>\n",
       "    <tr>\n",
       "      <th>Lublin</th>\n",
       "      <td>627</td>\n",
       "      <td>298042.502265</td>\n",
       "    </tr>\n",
       "    <tr>\n",
       "      <th>Rzeszów</th>\n",
       "      <td>539</td>\n",
       "      <td>277591.759109</td>\n",
       "    </tr>\n",
       "    <tr>\n",
       "      <th>Gdynia</th>\n",
       "      <td>484</td>\n",
       "      <td>406750.533244</td>\n",
       "    </tr>\n",
       "    <tr>\n",
       "      <th>Szczecin</th>\n",
       "      <td>465</td>\n",
       "      <td>294899.137634</td>\n",
       "    </tr>\n",
       "    <tr>\n",
       "      <th>Kielce</th>\n",
       "      <td>450</td>\n",
       "      <td>272174.054711</td>\n",
       "    </tr>\n",
       "    <tr>\n",
       "      <th>Białystok</th>\n",
       "      <td>423</td>\n",
       "      <td>274998.565957</td>\n",
       "    </tr>\n",
       "    <tr>\n",
       "      <th>Częstochowa</th>\n",
       "      <td>341</td>\n",
       "      <td>203512.840352</td>\n",
       "    </tr>\n",
       "    <tr>\n",
       "      <th>Sosnowiec</th>\n",
       "      <td>296</td>\n",
       "      <td>176798.988176</td>\n",
       "    </tr>\n",
       "    <tr>\n",
       "      <th>Tychy</th>\n",
       "      <td>273</td>\n",
       "      <td>231603.600733</td>\n",
       "    </tr>\n",
       "    <tr>\n",
       "      <th>Bielsko-Biała</th>\n",
       "      <td>256</td>\n",
       "      <td>259271.308594</td>\n",
       "    </tr>\n",
       "    <tr>\n",
       "      <th>Gliwice</th>\n",
       "      <td>250</td>\n",
       "      <td>248029.908800</td>\n",
       "    </tr>\n",
       "    <tr>\n",
       "      <th>Legnica</th>\n",
       "      <td>221</td>\n",
       "      <td>197090.669683</td>\n",
       "    </tr>\n",
       "    <tr>\n",
       "      <th>Pruszków</th>\n",
       "      <td>220</td>\n",
       "      <td>340274.990909</td>\n",
       "    </tr>\n",
       "    <tr>\n",
       "      <th>Zielona Góra</th>\n",
       "      <td>201</td>\n",
       "      <td>231484.998010</td>\n",
       "    </tr>\n",
       "    <tr>\n",
       "      <th>Zabrze</th>\n",
       "      <td>184</td>\n",
       "      <td>198157.574457</td>\n",
       "    </tr>\n",
       "    <tr>\n",
       "      <th>Bytom</th>\n",
       "      <td>164</td>\n",
       "      <td>134305.121951</td>\n",
       "    </tr>\n",
       "    <tr>\n",
       "      <th>Lubin</th>\n",
       "      <td>161</td>\n",
       "      <td>193405.086957</td>\n",
       "    </tr>\n",
       "    <tr>\n",
       "      <th>Piaseczno</th>\n",
       "      <td>156</td>\n",
       "      <td>335353.959936</td>\n",
       "    </tr>\n",
       "    <tr>\n",
       "      <th>Radom</th>\n",
       "      <td>155</td>\n",
       "      <td>212244.280645</td>\n",
       "    </tr>\n",
       "    <tr>\n",
       "      <th>Dąbrowa Górnicza</th>\n",
       "      <td>154</td>\n",
       "      <td>197910.357143</td>\n",
       "    </tr>\n",
       "    <tr>\n",
       "      <th>Gorzów Wielkopolski</th>\n",
       "      <td>143</td>\n",
       "      <td>204027.884615</td>\n",
       "    </tr>\n",
       "    <tr>\n",
       "      <th>Opole</th>\n",
       "      <td>141</td>\n",
       "      <td>289681.019149</td>\n",
       "    </tr>\n",
       "    <tr>\n",
       "      <th>Słupsk</th>\n",
       "      <td>135</td>\n",
       "      <td>206288.755556</td>\n",
       "    </tr>\n",
       "    <tr>\n",
       "      <th>Rybnik</th>\n",
       "      <td>135</td>\n",
       "      <td>176749.392593</td>\n",
       "    </tr>\n",
       "    <tr>\n",
       "      <th>Marki</th>\n",
       "      <td>122</td>\n",
       "      <td>322877.323770</td>\n",
       "    </tr>\n",
       "    <tr>\n",
       "      <th>Wałbrzych</th>\n",
       "      <td>119</td>\n",
       "      <td>136149.546218</td>\n",
       "    </tr>\n",
       "    <tr>\n",
       "      <th>Będzin</th>\n",
       "      <td>118</td>\n",
       "      <td>173633.454322</td>\n",
       "    </tr>\n",
       "    <tr>\n",
       "      <th>Ząbki</th>\n",
       "      <td>116</td>\n",
       "      <td>350111.566293</td>\n",
       "    </tr>\n",
       "    <tr>\n",
       "      <th>Świdnica</th>\n",
       "      <td>113</td>\n",
       "      <td>225765.238938</td>\n",
       "    </tr>\n",
       "    <tr>\n",
       "      <th>Ruda Śląska</th>\n",
       "      <td>113</td>\n",
       "      <td>144369.789381</td>\n",
       "    </tr>\n",
       "    <tr>\n",
       "      <th>Dzierżoniów</th>\n",
       "      <td>112</td>\n",
       "      <td>149732.946429</td>\n",
       "    </tr>\n",
       "    <tr>\n",
       "      <th>Wieliczka</th>\n",
       "      <td>110</td>\n",
       "      <td>277600.318182</td>\n",
       "    </tr>\n",
       "    <tr>\n",
       "      <th>Chorzów</th>\n",
       "      <td>108</td>\n",
       "      <td>179909.231481</td>\n",
       "    </tr>\n",
       "    <tr>\n",
       "      <th>Kiełczów</th>\n",
       "      <td>108</td>\n",
       "      <td>268002.805556</td>\n",
       "    </tr>\n",
       "    <tr>\n",
       "      <th>Sopot</th>\n",
       "      <td>104</td>\n",
       "      <td>512948.548077</td>\n",
       "    </tr>\n",
       "    <tr>\n",
       "      <th>Olsztyn</th>\n",
       "      <td>102</td>\n",
       "      <td>257669.431373</td>\n",
       "    </tr>\n",
       "    <tr>\n",
       "      <th>Włocławek</th>\n",
       "      <td>101</td>\n",
       "      <td>169261.937624</td>\n",
       "    </tr>\n",
       "    <tr>\n",
       "      <th>Oleśnica</th>\n",
       "      <td>101</td>\n",
       "      <td>257466.712871</td>\n",
       "    </tr>\n",
       "    <tr>\n",
       "      <th>Kołobrzeg</th>\n",
       "      <td>98</td>\n",
       "      <td>367046.990306</td>\n",
       "    </tr>\n",
       "    <tr>\n",
       "      <th>Jastrzębie-Zdrój</th>\n",
       "      <td>97</td>\n",
       "      <td>128058.742268</td>\n",
       "    </tr>\n",
       "    <tr>\n",
       "      <th>Koszalin</th>\n",
       "      <td>93</td>\n",
       "      <td>233693.731183</td>\n",
       "    </tr>\n",
       "  </tbody>\n",
       "</table>\n",
       "</div>"
      ],
      "text/plain": [
       "                     count           mean\n",
       "city                                     \n",
       "Warszawa              5408  442165.550492\n",
       "Wrocław               3959  352018.770417\n",
       "Kraków                2546  376486.815361\n",
       "Poznań                1312  331094.085297\n",
       "Gdańsk                1207  400990.479867\n",
       "Bydgoszcz             1081  261013.040259\n",
       "Katowice               931  256840.146380\n",
       "Łódź                   924  250064.668387\n",
       "Toruń                  659  280550.301760\n",
       "Lublin                 627  298042.502265\n",
       "Rzeszów                539  277591.759109\n",
       "Gdynia                 484  406750.533244\n",
       "Szczecin               465  294899.137634\n",
       "Kielce                 450  272174.054711\n",
       "Białystok              423  274998.565957\n",
       "Częstochowa            341  203512.840352\n",
       "Sosnowiec              296  176798.988176\n",
       "Tychy                  273  231603.600733\n",
       "Bielsko-Biała          256  259271.308594\n",
       "Gliwice                250  248029.908800\n",
       "Legnica                221  197090.669683\n",
       "Pruszków               220  340274.990909\n",
       "Zielona Góra           201  231484.998010\n",
       "Zabrze                 184  198157.574457\n",
       "Bytom                  164  134305.121951\n",
       "Lubin                  161  193405.086957\n",
       "Piaseczno              156  335353.959936\n",
       "Radom                  155  212244.280645\n",
       "Dąbrowa Górnicza       154  197910.357143\n",
       "Gorzów Wielkopolski    143  204027.884615\n",
       "Opole                  141  289681.019149\n",
       "Słupsk                 135  206288.755556\n",
       "Rybnik                 135  176749.392593\n",
       "Marki                  122  322877.323770\n",
       "Wałbrzych              119  136149.546218\n",
       "Będzin                 118  173633.454322\n",
       "Ząbki                  116  350111.566293\n",
       "Świdnica               113  225765.238938\n",
       "Ruda Śląska            113  144369.789381\n",
       "Dzierżoniów            112  149732.946429\n",
       "Wieliczka              110  277600.318182\n",
       "Chorzów                108  179909.231481\n",
       "Kiełczów               108  268002.805556\n",
       "Sopot                  104  512948.548077\n",
       "Olsztyn                102  257669.431373\n",
       "Włocławek              101  169261.937624\n",
       "Oleśnica               101  257466.712871\n",
       "Kołobrzeg               98  367046.990306\n",
       "Jastrzębie-Zdrój        97  128058.742268\n",
       "Koszalin                93  233693.731183"
      ]
     },
     "execution_count": 372,
     "metadata": {},
     "output_type": "execute_result"
    }
   ],
   "source": [
    "cities = data.groupby(by=data[\"city\"]) \\\n",
    "             .agg({\"city\":\"size\", \"price\":\"mean\"}) \\\n",
    "             .rename(columns={\"city\":\"count\", \"price\":\"mean\"}) \\\n",
    "             .sort_values(by=\"count\", ascending=False).head(50)\n",
    "            \n",
    "cities"
   ]
  },
  {
   "cell_type": "code",
   "execution_count": 373,
   "metadata": {},
   "outputs": [],
   "source": [
    "cities = cities.head(5).index"
   ]
  },
  {
   "cell_type": "code",
   "execution_count": 374,
   "metadata": {},
   "outputs": [],
   "source": [
    "data.loc[~data[\"city\"].isin(cities), \"city\"] = \"inne\""
   ]
  },
  {
   "cell_type": "code",
   "execution_count": 375,
   "metadata": {},
   "outputs": [],
   "source": [
    "data = data.drop([\"street\",\"district\"], axis=1)"
   ]
  },
  {
   "cell_type": "code",
   "execution_count": 376,
   "metadata": {},
   "outputs": [],
   "source": [
    "data = pd.get_dummies(data)"
   ]
  },
  {
   "cell_type": "code",
   "execution_count": 377,
   "metadata": {},
   "outputs": [],
   "source": [
    "X = data.drop([\"price\"], axis=1)\n",
    "y = data[\"price\"]"
   ]
  },
  {
   "cell_type": "code",
   "execution_count": 378,
   "metadata": {},
   "outputs": [],
   "source": [
    "X_train, X_test, y_train, y_test = train_test_split(X,y,test_size=0.33)"
   ]
  },
  {
   "cell_type": "code",
   "execution_count": 379,
   "metadata": {},
   "outputs": [],
   "source": [
    "imputer = Imputer(strategy=\"mean\", axis=0)\n",
    "X_train_inputed = imputer.fit_transform(X_train)\n",
    "X_train = pd.DataFrame(X_train_inputed, index = X_train.index, columns = X_train.columns)\n",
    "\n",
    "X_test_inputed = imputer.transform(X_test)\n",
    "X_test = pd.DataFrame(X_test_inputed, index = X_test.index, columns = X_test.columns)"
   ]
  },
  {
   "cell_type": "code",
   "execution_count": 380,
   "metadata": {},
   "outputs": [],
   "source": [
    "scaler = MinMaxScaler()\n",
    "X_train_scaled = scaler.fit_transform(X_train)\n",
    "X_train = pd.DataFrame(X_train_scaled, index = X_train.index, columns = X_train.columns)\n",
    "\n",
    "X_test_scaled  = scaler.transform(X_test)\n",
    "X_test = pd.DataFrame(X_test_scaled, index = X_test.index, columns = X_test.columns)"
   ]
  },
  {
   "cell_type": "code",
   "execution_count": 381,
   "metadata": {},
   "outputs": [],
   "source": [
    "models = [\n",
    "    (\"linear\",LinearRegression()),\n",
    "    (\"forest\",RandomForestRegressor())\n",
    "    #(\"svr\",SVR()) - commented out because SVR with default params gave really bad results \n",
    "]\n",
    "\n",
    "param_grids = [\n",
    "    {\"linear__normalize\":[True,False]},\n",
    "    {\"forest__n_estimators\":[10,100,1000],\"forest__min_samples_leaf\":[5,25,100],\"forest__max_depth\":[5,10,25]}\n",
    "    #{\"svr__C\":[0.1,1,10,100]}\n",
    "]"
   ]
  },
  {
   "cell_type": "code",
   "execution_count": null,
   "metadata": {},
   "outputs": [
    {
     "name": "stdout",
     "output_type": "stream",
     "text": [
      "Fitting 3 folds for each of 2 candidates, totalling 6 fits\n",
      "[CV] linear__normalize=True ..........................................\n",
      "[CV] . linear__normalize=True, score=0.6650610393090625, total=   0.0s\n",
      "[Parallel(n_jobs=1)]: Done   1 out of   1 | elapsed:    0.0s remaining:    0.0s\n",
      "[CV] linear__normalize=True ..........................................\n",
      "[CV] . linear__normalize=True, score=0.5421618180862985, total=   0.0s\n",
      "[Parallel(n_jobs=1)]: Done   2 out of   2 | elapsed:    0.0s remaining:    0.0s\n",
      "[CV] linear__normalize=True ..........................................\n",
      "[CV] . linear__normalize=True, score=0.4128509816761319, total=   0.0s\n",
      "[Parallel(n_jobs=1)]: Done   3 out of   3 | elapsed:    0.0s remaining:    0.0s\n",
      "[CV] linear__normalize=False .........................................\n",
      "[CV]  linear__normalize=False, score=0.6650701682602691, total=   0.0s\n",
      "[Parallel(n_jobs=1)]: Done   4 out of   4 | elapsed:    0.1s remaining:    0.0s\n",
      "[CV] linear__normalize=False .........................................\n",
      "[CV]  linear__normalize=False, score=0.5422215880585375, total=   0.0s\n",
      "[Parallel(n_jobs=1)]: Done   5 out of   5 | elapsed:    0.1s remaining:    0.0s\n",
      "[CV] linear__normalize=False .........................................\n",
      "[CV]  linear__normalize=False, score=0.41277681420961054, total=   0.0s\n",
      "[Parallel(n_jobs=1)]: Done   6 out of   6 | elapsed:    0.2s remaining:    0.0s\n",
      "[Parallel(n_jobs=1)]: Done   6 out of   6 | elapsed:    0.2s finished\n",
      "linear {'linear__normalize': True}\n",
      "Fitting 3 folds for each of 27 candidates, totalling 81 fits\n",
      "[CV] forest__max_depth=5, forest__min_samples_leaf=5, forest__n_estimators=10 \n",
      "[CV]  forest__max_depth=5, forest__min_samples_leaf=5, forest__n_estimators=10, score=0.6708721411373071, total=   0.2s\n",
      "[Parallel(n_jobs=1)]: Done   1 out of   1 | elapsed:    0.2s remaining:    0.0s\n",
      "[CV] forest__max_depth=5, forest__min_samples_leaf=5, forest__n_estimators=10 \n",
      "[CV]  forest__max_depth=5, forest__min_samples_leaf=5, forest__n_estimators=10, score=0.6460920964136909, total=   0.2s\n",
      "[Parallel(n_jobs=1)]: Done   2 out of   2 | elapsed:    0.5s remaining:    0.0s\n",
      "[CV] forest__max_depth=5, forest__min_samples_leaf=5, forest__n_estimators=10 \n",
      "[CV]  forest__max_depth=5, forest__min_samples_leaf=5, forest__n_estimators=10, score=0.6600179436619027, total=   0.2s\n",
      "[Parallel(n_jobs=1)]: Done   3 out of   3 | elapsed:    0.8s remaining:    0.0s\n",
      "[CV] forest__max_depth=5, forest__min_samples_leaf=5, forest__n_estimators=100 \n",
      "[CV]  forest__max_depth=5, forest__min_samples_leaf=5, forest__n_estimators=100, score=0.6729244009883157, total=   2.7s\n",
      "[Parallel(n_jobs=1)]: Done   4 out of   4 | elapsed:    3.7s remaining:    0.0s\n",
      "[CV] forest__max_depth=5, forest__min_samples_leaf=5, forest__n_estimators=100 \n",
      "[CV]  forest__max_depth=5, forest__min_samples_leaf=5, forest__n_estimators=100, score=0.648795527248273, total=   2.8s\n",
      "[Parallel(n_jobs=1)]: Done   5 out of   5 | elapsed:    6.7s remaining:    0.0s\n",
      "[CV] forest__max_depth=5, forest__min_samples_leaf=5, forest__n_estimators=100 \n",
      "[CV]  forest__max_depth=5, forest__min_samples_leaf=5, forest__n_estimators=100, score=0.6627847026769563, total=   2.7s\n",
      "[Parallel(n_jobs=1)]: Done   6 out of   6 | elapsed:    9.6s remaining:    0.0s\n",
      "[CV] forest__max_depth=5, forest__min_samples_leaf=5, forest__n_estimators=1000 \n",
      "[CV]  forest__max_depth=5, forest__min_samples_leaf=5, forest__n_estimators=1000, score=0.6739669102769859, total=  28.7s\n",
      "[Parallel(n_jobs=1)]: Done   7 out of   7 | elapsed:   39.1s remaining:    0.0s\n",
      "[CV] forest__max_depth=5, forest__min_samples_leaf=5, forest__n_estimators=1000 \n",
      "[CV]  forest__max_depth=5, forest__min_samples_leaf=5, forest__n_estimators=1000, score=0.6488863582736522, total=  28.9s\n",
      "[Parallel(n_jobs=1)]: Done   8 out of   8 | elapsed:  1.1min remaining:    0.0s\n",
      "[CV] forest__max_depth=5, forest__min_samples_leaf=5, forest__n_estimators=1000 \n",
      "[CV]  forest__max_depth=5, forest__min_samples_leaf=5, forest__n_estimators=1000, score=0.6627735060811648, total=  27.5s\n",
      "[Parallel(n_jobs=1)]: Done   9 out of   9 | elapsed:  1.6min remaining:    0.0s\n",
      "[CV] forest__max_depth=5, forest__min_samples_leaf=25, forest__n_estimators=10 \n",
      "[CV]  forest__max_depth=5, forest__min_samples_leaf=25, forest__n_estimators=10, score=0.6683838821876391, total=   0.2s\n",
      "[Parallel(n_jobs=1)]: Done  10 out of  10 | elapsed:  1.6min remaining:    0.0s\n",
      "[CV] forest__max_depth=5, forest__min_samples_leaf=25, forest__n_estimators=10 \n",
      "[CV]  forest__max_depth=5, forest__min_samples_leaf=25, forest__n_estimators=10, score=0.6439692329263387, total=   0.2s\n",
      "[Parallel(n_jobs=1)]: Done  11 out of  11 | elapsed:  1.6min remaining:    0.0s\n",
      "[CV] forest__max_depth=5, forest__min_samples_leaf=25, forest__n_estimators=10 \n",
      "[CV]  forest__max_depth=5, forest__min_samples_leaf=25, forest__n_estimators=10, score=0.660721759888341, total=   0.2s\n",
      "[Parallel(n_jobs=1)]: Done  12 out of  12 | elapsed:  1.6min remaining:    0.0s\n",
      "[CV] forest__max_depth=5, forest__min_samples_leaf=25, forest__n_estimators=100 \n",
      "[CV]  forest__max_depth=5, forest__min_samples_leaf=25, forest__n_estimators=100, score=0.672994419870548, total=   2.8s\n",
      "[Parallel(n_jobs=1)]: Done  13 out of  13 | elapsed:  1.7min remaining:    0.0s\n",
      "[CV] forest__max_depth=5, forest__min_samples_leaf=25, forest__n_estimators=100 \n",
      "[CV]  forest__max_depth=5, forest__min_samples_leaf=25, forest__n_estimators=100, score=0.6474473497830089, total=   2.8s\n",
      "[Parallel(n_jobs=1)]: Done  14 out of  14 | elapsed:  1.7min remaining:    0.0s\n",
      "[CV] forest__max_depth=5, forest__min_samples_leaf=25, forest__n_estimators=100 \n",
      "[CV]  forest__max_depth=5, forest__min_samples_leaf=25, forest__n_estimators=100, score=0.6626847031626973, total=   2.9s\n",
      "[Parallel(n_jobs=1)]: Done  15 out of  15 | elapsed:  1.8min remaining:    0.0s\n",
      "[CV] forest__max_depth=5, forest__min_samples_leaf=25, forest__n_estimators=1000 \n",
      "[CV]  forest__max_depth=5, forest__min_samples_leaf=25, forest__n_estimators=1000, score=0.673287341481472, total=  28.7s\n",
      "[Parallel(n_jobs=1)]: Done  16 out of  16 | elapsed:  2.3min remaining:    0.0s\n",
      "[CV] forest__max_depth=5, forest__min_samples_leaf=25, forest__n_estimators=1000 \n",
      "[CV]  forest__max_depth=5, forest__min_samples_leaf=25, forest__n_estimators=1000, score=0.6478773105038682, total=  28.3s\n",
      "[Parallel(n_jobs=1)]: Done  17 out of  17 | elapsed:  2.8min remaining:    0.0s\n",
      "[CV] forest__max_depth=5, forest__min_samples_leaf=25, forest__n_estimators=1000 \n",
      "[CV]  forest__max_depth=5, forest__min_samples_leaf=25, forest__n_estimators=1000, score=0.6625853131542792, total=  28.4s\n",
      "[Parallel(n_jobs=1)]: Done  18 out of  18 | elapsed:  3.2min remaining:    0.0s\n",
      "[CV] forest__max_depth=5, forest__min_samples_leaf=100, forest__n_estimators=10 \n",
      "[CV]  forest__max_depth=5, forest__min_samples_leaf=100, forest__n_estimators=10, score=0.6618175938170476, total=   0.2s\n",
      "[Parallel(n_jobs=1)]: Done  19 out of  19 | elapsed:  3.3min remaining:    0.0s\n",
      "[CV] forest__max_depth=5, forest__min_samples_leaf=100, forest__n_estimators=10 \n",
      "[CV]  forest__max_depth=5, forest__min_samples_leaf=100, forest__n_estimators=10, score=0.6439748549929951, total=   0.2s\n",
      "[Parallel(n_jobs=1)]: Done  20 out of  20 | elapsed:  3.3min remaining:    0.0s\n",
      "[CV] forest__max_depth=5, forest__min_samples_leaf=100, forest__n_estimators=10 \n",
      "[CV]  forest__max_depth=5, forest__min_samples_leaf=100, forest__n_estimators=10, score=0.6504728438067806, total=   0.2s\n",
      "[Parallel(n_jobs=1)]: Done  21 out of  21 | elapsed:  3.3min remaining:    0.0s\n",
      "[CV] forest__max_depth=5, forest__min_samples_leaf=100, forest__n_estimators=100 \n",
      "[CV]  forest__max_depth=5, forest__min_samples_leaf=100, forest__n_estimators=100, score=0.6648509269215532, total=   2.7s\n",
      "[Parallel(n_jobs=1)]: Done  22 out of  22 | elapsed:  3.3min remaining:    0.0s\n",
      "[CV] forest__max_depth=5, forest__min_samples_leaf=100, forest__n_estimators=100 \n",
      "[CV]  forest__max_depth=5, forest__min_samples_leaf=100, forest__n_estimators=100, score=0.6453197040893512, total=   2.7s\n",
      "[Parallel(n_jobs=1)]: Done  23 out of  23 | elapsed:  3.4min remaining:    0.0s\n",
      "[CV] forest__max_depth=5, forest__min_samples_leaf=100, forest__n_estimators=100 \n",
      "[CV]  forest__max_depth=5, forest__min_samples_leaf=100, forest__n_estimators=100, score=0.6553891559875222, total=   2.7s\n",
      "[Parallel(n_jobs=1)]: Done  24 out of  24 | elapsed:  3.4min remaining:    0.0s\n",
      "[CV] forest__max_depth=5, forest__min_samples_leaf=100, forest__n_estimators=1000 \n",
      "[CV]  forest__max_depth=5, forest__min_samples_leaf=100, forest__n_estimators=1000, score=0.6653885536508102, total=  27.5s\n",
      "[Parallel(n_jobs=1)]: Done  25 out of  25 | elapsed:  3.9min remaining:    0.0s\n",
      "[CV] forest__max_depth=5, forest__min_samples_leaf=100, forest__n_estimators=1000 \n",
      "[CV]  forest__max_depth=5, forest__min_samples_leaf=100, forest__n_estimators=1000, score=0.6465490894761032, total=  27.5s\n",
      "[Parallel(n_jobs=1)]: Done  26 out of  26 | elapsed:  4.4min remaining:    0.0s\n",
      "[CV] forest__max_depth=5, forest__min_samples_leaf=100, forest__n_estimators=1000 \n",
      "[CV]  forest__max_depth=5, forest__min_samples_leaf=100, forest__n_estimators=1000, score=0.6556169479187226, total=  27.9s\n",
      "[Parallel(n_jobs=1)]: Done  27 out of  27 | elapsed:  4.8min remaining:    0.0s\n",
      "[CV] forest__max_depth=10, forest__min_samples_leaf=5, forest__n_estimators=10 \n",
      "[CV]  forest__max_depth=10, forest__min_samples_leaf=5, forest__n_estimators=10, score=0.7508349154869193, total=   0.5s\n",
      "[Parallel(n_jobs=1)]: Done  28 out of  28 | elapsed:  4.8min remaining:    0.0s\n",
      "[CV] forest__max_depth=10, forest__min_samples_leaf=5, forest__n_estimators=10 \n",
      "[CV]  forest__max_depth=10, forest__min_samples_leaf=5, forest__n_estimators=10, score=0.7322249938805652, total=   0.5s\n",
      "[Parallel(n_jobs=1)]: Done  29 out of  29 | elapsed:  4.9min remaining:    0.0s\n",
      "[CV] forest__max_depth=10, forest__min_samples_leaf=5, forest__n_estimators=10 \n",
      "[CV]  forest__max_depth=10, forest__min_samples_leaf=5, forest__n_estimators=10, score=0.7381068128800565, total=   0.5s\n",
      "[Parallel(n_jobs=1)]: Done  30 out of  30 | elapsed:  4.9min remaining:    0.0s\n",
      "[CV] forest__max_depth=10, forest__min_samples_leaf=5, forest__n_estimators=100 \n",
      "[CV]  forest__max_depth=10, forest__min_samples_leaf=5, forest__n_estimators=100, score=0.7565894375157196, total=   5.7s\n",
      "[Parallel(n_jobs=1)]: Done  31 out of  31 | elapsed:  5.0min remaining:    0.0s\n",
      "[CV] forest__max_depth=10, forest__min_samples_leaf=5, forest__n_estimators=100 \n",
      "[CV]  forest__max_depth=10, forest__min_samples_leaf=5, forest__n_estimators=100, score=0.7396438548339505, total=   5.6s\n",
      "[Parallel(n_jobs=1)]: Done  32 out of  32 | elapsed:  5.1min remaining:    0.0s\n",
      "[CV] forest__max_depth=10, forest__min_samples_leaf=5, forest__n_estimators=100 \n",
      "[CV]  forest__max_depth=10, forest__min_samples_leaf=5, forest__n_estimators=100, score=0.7429997846387109, total=   5.7s\n",
      "[Parallel(n_jobs=1)]: Done  33 out of  33 | elapsed:  5.2min remaining:    0.0s\n",
      "[CV] forest__max_depth=10, forest__min_samples_leaf=5, forest__n_estimators=1000 \n",
      "[CV]  forest__max_depth=10, forest__min_samples_leaf=5, forest__n_estimators=1000, score=0.7568585146692692, total=  55.1s\n",
      "[Parallel(n_jobs=1)]: Done  34 out of  34 | elapsed:  6.1min remaining:    0.0s\n",
      "[CV] forest__max_depth=10, forest__min_samples_leaf=5, forest__n_estimators=1000 \n",
      "[CV]  forest__max_depth=10, forest__min_samples_leaf=5, forest__n_estimators=1000, score=0.7405281189091113, total=  54.7s\n",
      "[Parallel(n_jobs=1)]: Done  35 out of  35 | elapsed:  7.0min remaining:    0.0s\n",
      "[CV] forest__max_depth=10, forest__min_samples_leaf=5, forest__n_estimators=1000 \n",
      "[CV]  forest__max_depth=10, forest__min_samples_leaf=5, forest__n_estimators=1000, score=0.7445525297034998, total=  55.5s\n",
      "[Parallel(n_jobs=1)]: Done  36 out of  36 | elapsed:  8.0min remaining:    0.0s\n",
      "[CV] forest__max_depth=10, forest__min_samples_leaf=25, forest__n_estimators=10 \n",
      "[CV]  forest__max_depth=10, forest__min_samples_leaf=25, forest__n_estimators=10, score=0.727427856275892, total=   0.4s\n",
      "[Parallel(n_jobs=1)]: Done  37 out of  37 | elapsed:  8.0min remaining:    0.0s\n",
      "[CV] forest__max_depth=10, forest__min_samples_leaf=25, forest__n_estimators=10 \n",
      "[CV]  forest__max_depth=10, forest__min_samples_leaf=25, forest__n_estimators=10, score=0.7117752514929838, total=   0.4s\n",
      "[Parallel(n_jobs=1)]: Done  38 out of  38 | elapsed:  8.0min remaining:    0.0s\n",
      "[CV] forest__max_depth=10, forest__min_samples_leaf=25, forest__n_estimators=10 \n",
      "[CV]  forest__max_depth=10, forest__min_samples_leaf=25, forest__n_estimators=10, score=0.7190583903280169, total=   0.4s\n",
      "[Parallel(n_jobs=1)]: Done  39 out of  39 | elapsed:  8.0min remaining:    0.0s\n",
      "[CV] forest__max_depth=10, forest__min_samples_leaf=25, forest__n_estimators=100 \n",
      "[CV]  forest__max_depth=10, forest__min_samples_leaf=25, forest__n_estimators=100, score=0.7342012854657232, total=   4.6s\n",
      "[Parallel(n_jobs=1)]: Done  40 out of  40 | elapsed:  8.1min remaining:    0.0s\n",
      "[CV] forest__max_depth=10, forest__min_samples_leaf=25, forest__n_estimators=100 \n",
      "[CV]  forest__max_depth=10, forest__min_samples_leaf=25, forest__n_estimators=100, score=0.7180067910171855, total=   4.6s\n",
      "[Parallel(n_jobs=1)]: Done  41 out of  41 | elapsed:  8.2min remaining:    0.0s\n",
      "[CV] forest__max_depth=10, forest__min_samples_leaf=25, forest__n_estimators=100 \n",
      "[CV]  forest__max_depth=10, forest__min_samples_leaf=25, forest__n_estimators=100, score=0.7229639974322917, total=   4.7s\n",
      "[Parallel(n_jobs=1)]: Done  42 out of  42 | elapsed:  8.3min remaining:    0.0s\n",
      "[CV] forest__max_depth=10, forest__min_samples_leaf=25, forest__n_estimators=1000 \n",
      "[CV]  forest__max_depth=10, forest__min_samples_leaf=25, forest__n_estimators=1000, score=0.7342389861192646, total=  48.4s\n",
      "[Parallel(n_jobs=1)]: Done  43 out of  43 | elapsed:  9.1min remaining:    0.0s\n",
      "[CV] forest__max_depth=10, forest__min_samples_leaf=25, forest__n_estimators=1000 \n",
      "[CV]  forest__max_depth=10, forest__min_samples_leaf=25, forest__n_estimators=1000, score=0.7176066102365468, total=  47.6s\n",
      "[Parallel(n_jobs=1)]: Done  44 out of  44 | elapsed:  9.9min remaining:    0.0s\n",
      "[CV] forest__max_depth=10, forest__min_samples_leaf=25, forest__n_estimators=1000 \n",
      "[CV]  forest__max_depth=10, forest__min_samples_leaf=25, forest__n_estimators=1000, score=0.7234501457812363, total=  48.1s\n",
      "[Parallel(n_jobs=1)]: Done  45 out of  45 | elapsed: 10.8min remaining:    0.0s\n",
      "[CV] forest__max_depth=10, forest__min_samples_leaf=100, forest__n_estimators=10 \n",
      "[CV]  forest__max_depth=10, forest__min_samples_leaf=100, forest__n_estimators=10, score=0.6861680723971952, total=   0.3s\n",
      "[Parallel(n_jobs=1)]: Done  46 out of  46 | elapsed: 10.8min remaining:    0.0s\n",
      "[CV] forest__max_depth=10, forest__min_samples_leaf=100, forest__n_estimators=10 \n",
      "[CV]  forest__max_depth=10, forest__min_samples_leaf=100, forest__n_estimators=10, score=0.66445806924295, total=   0.3s\n",
      "[Parallel(n_jobs=1)]: Done  47 out of  47 | elapsed: 10.8min remaining:    0.0s\n",
      "[CV] forest__max_depth=10, forest__min_samples_leaf=100, forest__n_estimators=10 \n",
      "[CV]  forest__max_depth=10, forest__min_samples_leaf=100, forest__n_estimators=10, score=0.6723642216412455, total=   0.3s\n",
      "[Parallel(n_jobs=1)]: Done  48 out of  48 | elapsed: 10.8min remaining:    0.0s\n",
      "[CV] forest__max_depth=10, forest__min_samples_leaf=100, forest__n_estimators=100 \n",
      "[CV]  forest__max_depth=10, forest__min_samples_leaf=100, forest__n_estimators=100, score=0.6871887715465076, total=   3.4s\n",
      "[Parallel(n_jobs=1)]: Done  49 out of  49 | elapsed: 10.8min remaining:    0.0s\n",
      "[CV] forest__max_depth=10, forest__min_samples_leaf=100, forest__n_estimators=100 \n",
      "[CV]  forest__max_depth=10, forest__min_samples_leaf=100, forest__n_estimators=100, score=0.6711702111025183, total=   3.4s\n",
      "[Parallel(n_jobs=1)]: Done  50 out of  50 | elapsed: 10.9min remaining:    0.0s\n",
      "[CV] forest__max_depth=10, forest__min_samples_leaf=100, forest__n_estimators=100 \n",
      "[CV]  forest__max_depth=10, forest__min_samples_leaf=100, forest__n_estimators=100, score=0.6755561969319968, total=   3.4s\n",
      "[Parallel(n_jobs=1)]: Done  51 out of  51 | elapsed: 11.0min remaining:    0.0s\n",
      "[CV] forest__max_depth=10, forest__min_samples_leaf=100, forest__n_estimators=1000 \n",
      "[CV]  forest__max_depth=10, forest__min_samples_leaf=100, forest__n_estimators=1000, score=0.686919790558771, total=  35.3s\n",
      "[Parallel(n_jobs=1)]: Done  52 out of  52 | elapsed: 11.6min remaining:    0.0s\n",
      "[CV] forest__max_depth=10, forest__min_samples_leaf=100, forest__n_estimators=1000 \n",
      "[CV]  forest__max_depth=10, forest__min_samples_leaf=100, forest__n_estimators=1000, score=0.6710857291689275, total=  35.7s\n",
      "[Parallel(n_jobs=1)]: Done  53 out of  53 | elapsed: 12.2min remaining:    0.0s\n",
      "[CV] forest__max_depth=10, forest__min_samples_leaf=100, forest__n_estimators=1000 \n"
     ]
    }
   ],
   "source": [
    "best_models = []\n",
    "base = []\n",
    "for i, model in enumerate(models):\n",
    "    \n",
    "    steps = base.copy()\n",
    "    steps.append(model)\n",
    "    pipe = Pipeline(steps)\n",
    "    \n",
    "    gs = GridSearchCV(estimator=pipe, \n",
    "                      param_grid=param_grids[i], \n",
    "                      verbose=100\n",
    "                     )\n",
    "    gs.fit(X_train,y_train)\n",
    "    print(models[i][0], gs.best_params_)\n",
    "    best_models.append((models[i][0], gs.best_params_, gs.best_estimator_))"
   ]
  },
  {
   "cell_type": "code",
   "execution_count": null,
   "metadata": {},
   "outputs": [],
   "source": [
    "xgb = XGBRegressor(silent=False, nthread = 4)\n",
    "\n",
    "params = {\n",
    "    \"n_estimators\":ss.randint(10,100),\n",
    "    \"learning_rate\":ss.uniform(0.01,0.3),\n",
    "    \"max_depth\": [3, 5, 10]\n",
    "    #\"bootstrap\": [True, False]\n",
    "}\n",
    "\n",
    "cv = RandomizedSearchCV(cv=3, \n",
    "                        estimator=xgb, \n",
    "                        param_distributions=params, \n",
    "                        n_iter=30,\n",
    "                        verbose=100)\n",
    "\n",
    "cv.fit(X_train,y_train)\n",
    "\n",
    "best_models.append((\"xgb\", cv.best_params_, cv.best_estimator_))"
   ]
  },
  {
   "cell_type": "code",
   "execution_count": null,
   "metadata": {},
   "outputs": [],
   "source": [
    "for model in best_models:\n",
    "    print(\"{} with params {}\\n R^2: {}, MSE: {}\".format(model[0], \n",
    "                                          model[1],\n",
    "                                          r2_score(y_test,model[2].predict(X_test)),\n",
    "                                          mean_squared_error(y_test,model[2].predict(X_test))))"
   ]
  },
  {
   "cell_type": "markdown",
   "metadata": {},
   "source": [
    "With coefficient of determination equal to almost 80% and root mean squared error equal to ~65000 XGBoost give the best results.  \n",
    "This is way better than after first iteration and satisfactory for us.  \n",
    "As we can see, using address variable correctly was crucial to achieve such score and I assume that if we had dictionary of most desired districts we can even boost this score.  \n"
   ]
  }
 ],
 "metadata": {
  "kernelspec": {
   "display_name": "Python 3",
   "language": "python",
   "name": "python3"
  },
  "language_info": {
   "codemirror_mode": {
    "name": "ipython",
    "version": 3
   },
   "file_extension": ".py",
   "mimetype": "text/x-python",
   "name": "python",
   "nbconvert_exporter": "python",
   "pygments_lexer": "ipython3",
   "version": "3.6.3"
  }
 },
 "nbformat": 4,
 "nbformat_minor": 2
}
